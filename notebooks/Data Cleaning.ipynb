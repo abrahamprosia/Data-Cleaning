{
 "cells": [
  {
   "cell_type": "markdown",
   "id": "a8f32cb6-14e8-4f25-a1fc-c949afe0d628",
   "metadata": {},
   "source": [
    "<h1> Data Cleaning </h1>\n",
    "<b> Note: </b>The data below are not valid this is for practice purposes"
   ]
  },
  {
   "cell_type": "code",
   "execution_count": 2,
   "id": "e10e4656-761e-4bd0-8c55-338a11d20f67",
   "metadata": {},
   "outputs": [],
   "source": [
    "import pandas as pd\n",
    "import numpy as np"
   ]
  },
  {
   "cell_type": "code",
   "execution_count": 3,
   "id": "53ec27d1-9335-4437-b0d5-609db90123ed",
   "metadata": {},
   "outputs": [
    {
     "data": {
      "text/html": [
       "<div>\n",
       "<style scoped>\n",
       "    .dataframe tbody tr th:only-of-type {\n",
       "        vertical-align: middle;\n",
       "    }\n",
       "\n",
       "    .dataframe tbody tr th {\n",
       "        vertical-align: top;\n",
       "    }\n",
       "\n",
       "    .dataframe thead th {\n",
       "        text-align: right;\n",
       "    }\n",
       "</style>\n",
       "<table border=\"1\" class=\"dataframe\">\n",
       "  <thead>\n",
       "    <tr style=\"text-align: right;\">\n",
       "      <th></th>\n",
       "      <th>Transaction_ID</th>\n",
       "      <th>Customer_Name</th>\n",
       "      <th>Purchase_Date</th>\n",
       "      <th>Amount_Spent</th>\n",
       "      <th>Payment_Method</th>\n",
       "      <th>Customer_Age</th>\n",
       "    </tr>\n",
       "  </thead>\n",
       "  <tbody>\n",
       "    <tr>\n",
       "      <th>0</th>\n",
       "      <td>1001</td>\n",
       "      <td>Grace</td>\n",
       "      <td>2023-01-01</td>\n",
       "      <td>120.25</td>\n",
       "      <td>Venmo</td>\n",
       "      <td>NaN</td>\n",
       "    </tr>\n",
       "    <tr>\n",
       "      <th>1</th>\n",
       "      <td>1002</td>\n",
       "      <td>David</td>\n",
       "      <td>08/25/2023</td>\n",
       "      <td>500.30</td>\n",
       "      <td>Credit</td>\n",
       "      <td>34.0</td>\n",
       "    </tr>\n",
       "    <tr>\n",
       "      <th>2</th>\n",
       "      <td>1003</td>\n",
       "      <td>Henry</td>\n",
       "      <td>04-10-2023</td>\n",
       "      <td>75.50</td>\n",
       "      <td>Venmo</td>\n",
       "      <td>50.0</td>\n",
       "    </tr>\n",
       "    <tr>\n",
       "      <th>3</th>\n",
       "      <td>1004</td>\n",
       "      <td>Eve</td>\n",
       "      <td>04-10-2023</td>\n",
       "      <td>85.00</td>\n",
       "      <td>debit</td>\n",
       "      <td>38.0</td>\n",
       "    </tr>\n",
       "    <tr>\n",
       "      <th>4</th>\n",
       "      <td>1005</td>\n",
       "      <td>Grace</td>\n",
       "      <td>2023.05.12</td>\n",
       "      <td>NaN</td>\n",
       "      <td>Credit Card</td>\n",
       "      <td>34.0</td>\n",
       "    </tr>\n",
       "    <tr>\n",
       "      <th>...</th>\n",
       "      <td>...</td>\n",
       "      <td>...</td>\n",
       "      <td>...</td>\n",
       "      <td>...</td>\n",
       "      <td>...</td>\n",
       "      <td>...</td>\n",
       "    </tr>\n",
       "    <tr>\n",
       "      <th>995</th>\n",
       "      <td>1996</td>\n",
       "      <td>NaN</td>\n",
       "      <td>March 5, 2023</td>\n",
       "      <td>99999.99</td>\n",
       "      <td>Credit</td>\n",
       "      <td>25.0</td>\n",
       "    </tr>\n",
       "    <tr>\n",
       "      <th>996</th>\n",
       "      <td>1997</td>\n",
       "      <td>NaN</td>\n",
       "      <td>2023-07-20</td>\n",
       "      <td>320.75</td>\n",
       "      <td>paypal</td>\n",
       "      <td>30.0</td>\n",
       "    </tr>\n",
       "    <tr>\n",
       "      <th>997</th>\n",
       "      <td>1998</td>\n",
       "      <td>Henry</td>\n",
       "      <td>2023.05.12</td>\n",
       "      <td>100.00</td>\n",
       "      <td>PayPal</td>\n",
       "      <td>45.0</td>\n",
       "    </tr>\n",
       "    <tr>\n",
       "      <th>998</th>\n",
       "      <td>1999</td>\n",
       "      <td>Bob</td>\n",
       "      <td>2023/02/15</td>\n",
       "      <td>60.00</td>\n",
       "      <td>PayPal</td>\n",
       "      <td>50.0</td>\n",
       "    </tr>\n",
       "    <tr>\n",
       "      <th>999</th>\n",
       "      <td>2000</td>\n",
       "      <td>Ivy</td>\n",
       "      <td>March 5, 2023</td>\n",
       "      <td>75.50</td>\n",
       "      <td>Credit Card</td>\n",
       "      <td>-5.0</td>\n",
       "    </tr>\n",
       "  </tbody>\n",
       "</table>\n",
       "<p>1000 rows × 6 columns</p>\n",
       "</div>"
      ],
      "text/plain": [
       "     Transaction_ID Customer_Name  Purchase_Date  Amount_Spent Payment_Method  \\\n",
       "0              1001         Grace     2023-01-01        120.25          Venmo   \n",
       "1              1002         David     08/25/2023        500.30         Credit   \n",
       "2              1003         Henry     04-10-2023         75.50          Venmo   \n",
       "3              1004           Eve     04-10-2023         85.00         debit    \n",
       "4              1005         Grace     2023.05.12           NaN    Credit Card   \n",
       "..              ...           ...            ...           ...            ...   \n",
       "995            1996           NaN  March 5, 2023      99999.99         Credit   \n",
       "996            1997           NaN     2023-07-20        320.75         paypal   \n",
       "997            1998         Henry     2023.05.12        100.00         PayPal   \n",
       "998            1999           Bob     2023/02/15         60.00         PayPal   \n",
       "999            2000           Ivy  March 5, 2023         75.50    Credit Card   \n",
       "\n",
       "     Customer_Age  \n",
       "0             NaN  \n",
       "1            34.0  \n",
       "2            50.0  \n",
       "3            38.0  \n",
       "4            34.0  \n",
       "..            ...  \n",
       "995          25.0  \n",
       "996          30.0  \n",
       "997          45.0  \n",
       "998          50.0  \n",
       "999          -5.0  \n",
       "\n",
       "[1000 rows x 6 columns]"
      ]
     },
     "execution_count": 3,
     "metadata": {},
     "output_type": "execute_result"
    }
   ],
   "source": [
    "df = pd.read_csv('D:\\\\customer_transactions.csv')\n",
    "df "
   ]
  },
  {
   "cell_type": "code",
   "execution_count": 146,
   "id": "ee8828f6-1e93-46f4-b51c-85b8e6ae6b7a",
   "metadata": {},
   "outputs": [
    {
     "data": {
      "text/plain": [
       "Transaction_ID      0\n",
       "Customer_Name     107\n",
       "Purchase_Date       0\n",
       "Amount_Spent       86\n",
       "Payment_Method      0\n",
       "Customer_Age       88\n",
       "dtype: int64"
      ]
     },
     "execution_count": 146,
     "metadata": {},
     "output_type": "execute_result"
    }
   ],
   "source": [
    "df.isnull().sum()"
   ]
  },
  {
   "cell_type": "code",
   "execution_count": 147,
   "id": "14446764-f6e0-47a2-8cc9-d0fe763cf882",
   "metadata": {},
   "outputs": [],
   "source": [
    "df.Customer_Name = df[\"Customer_Name\"].fillna('Unknown')"
   ]
  },
  {
   "cell_type": "code",
   "execution_count": 148,
   "id": "9791a515-fb08-4dde-99cd-ec2eb428f061",
   "metadata": {},
   "outputs": [
    {
     "data": {
      "text/html": [
       "<div>\n",
       "<style scoped>\n",
       "    .dataframe tbody tr th:only-of-type {\n",
       "        vertical-align: middle;\n",
       "    }\n",
       "\n",
       "    .dataframe tbody tr th {\n",
       "        vertical-align: top;\n",
       "    }\n",
       "\n",
       "    .dataframe thead th {\n",
       "        text-align: right;\n",
       "    }\n",
       "</style>\n",
       "<table border=\"1\" class=\"dataframe\">\n",
       "  <thead>\n",
       "    <tr style=\"text-align: right;\">\n",
       "      <th></th>\n",
       "      <th>Transaction_ID</th>\n",
       "      <th>Customer_Name</th>\n",
       "      <th>Purchase_Date</th>\n",
       "      <th>Amount_Spent</th>\n",
       "      <th>Payment_Method</th>\n",
       "      <th>Customer_Age</th>\n",
       "    </tr>\n",
       "  </thead>\n",
       "  <tbody>\n",
       "    <tr>\n",
       "      <th>0</th>\n",
       "      <td>1001</td>\n",
       "      <td>Grace</td>\n",
       "      <td>2023-01-01</td>\n",
       "      <td>120.25</td>\n",
       "      <td>Venmo</td>\n",
       "      <td>NaN</td>\n",
       "    </tr>\n",
       "    <tr>\n",
       "      <th>1</th>\n",
       "      <td>1002</td>\n",
       "      <td>David</td>\n",
       "      <td>08/25/2023</td>\n",
       "      <td>500.30</td>\n",
       "      <td>Credit</td>\n",
       "      <td>34.0</td>\n",
       "    </tr>\n",
       "    <tr>\n",
       "      <th>2</th>\n",
       "      <td>1003</td>\n",
       "      <td>Henry</td>\n",
       "      <td>04-10-2023</td>\n",
       "      <td>75.50</td>\n",
       "      <td>Venmo</td>\n",
       "      <td>50.0</td>\n",
       "    </tr>\n",
       "    <tr>\n",
       "      <th>3</th>\n",
       "      <td>1004</td>\n",
       "      <td>Eve</td>\n",
       "      <td>04-10-2023</td>\n",
       "      <td>85.00</td>\n",
       "      <td>debit</td>\n",
       "      <td>38.0</td>\n",
       "    </tr>\n",
       "    <tr>\n",
       "      <th>4</th>\n",
       "      <td>1005</td>\n",
       "      <td>Grace</td>\n",
       "      <td>2023.05.12</td>\n",
       "      <td>NaN</td>\n",
       "      <td>Credit Card</td>\n",
       "      <td>34.0</td>\n",
       "    </tr>\n",
       "    <tr>\n",
       "      <th>5</th>\n",
       "      <td>1006</td>\n",
       "      <td>Unknown</td>\n",
       "      <td>08/25/2023</td>\n",
       "      <td>60.00</td>\n",
       "      <td>crypto</td>\n",
       "      <td>40.0</td>\n",
       "    </tr>\n",
       "    <tr>\n",
       "      <th>6</th>\n",
       "      <td>1007</td>\n",
       "      <td>charlie</td>\n",
       "      <td>2023.05.12</td>\n",
       "      <td>75.50</td>\n",
       "      <td>debit</td>\n",
       "      <td>29.0</td>\n",
       "    </tr>\n",
       "    <tr>\n",
       "      <th>7</th>\n",
       "      <td>1008</td>\n",
       "      <td>Grace</td>\n",
       "      <td>08/25/2023</td>\n",
       "      <td>99999.99</td>\n",
       "      <td>crypto</td>\n",
       "      <td>50.0</td>\n",
       "    </tr>\n",
       "    <tr>\n",
       "      <th>8</th>\n",
       "      <td>1009</td>\n",
       "      <td>Henry</td>\n",
       "      <td>2023-10-10</td>\n",
       "      <td>100.00</td>\n",
       "      <td>crypto</td>\n",
       "      <td>-5.0</td>\n",
       "    </tr>\n",
       "    <tr>\n",
       "      <th>9</th>\n",
       "      <td>1010</td>\n",
       "      <td>Eve</td>\n",
       "      <td>2023-01-01</td>\n",
       "      <td>250.50</td>\n",
       "      <td>Cash</td>\n",
       "      <td>200.0</td>\n",
       "    </tr>\n",
       "  </tbody>\n",
       "</table>\n",
       "</div>"
      ],
      "text/plain": [
       "   Transaction_ID Customer_Name Purchase_Date  Amount_Spent Payment_Method  \\\n",
       "0            1001         Grace    2023-01-01        120.25          Venmo   \n",
       "1            1002         David    08/25/2023        500.30         Credit   \n",
       "2            1003         Henry    04-10-2023         75.50          Venmo   \n",
       "3            1004           Eve    04-10-2023         85.00         debit    \n",
       "4            1005         Grace    2023.05.12           NaN    Credit Card   \n",
       "5            1006       Unknown    08/25/2023         60.00         crypto   \n",
       "6            1007       charlie    2023.05.12         75.50         debit    \n",
       "7            1008         Grace    08/25/2023      99999.99         crypto   \n",
       "8            1009         Henry    2023-10-10        100.00         crypto   \n",
       "9            1010           Eve    2023-01-01        250.50           Cash   \n",
       "\n",
       "   Customer_Age  \n",
       "0           NaN  \n",
       "1          34.0  \n",
       "2          50.0  \n",
       "3          38.0  \n",
       "4          34.0  \n",
       "5          40.0  \n",
       "6          29.0  \n",
       "7          50.0  \n",
       "8          -5.0  \n",
       "9         200.0  "
      ]
     },
     "execution_count": 148,
     "metadata": {},
     "output_type": "execute_result"
    }
   ],
   "source": [
    "df.head(10)"
   ]
  },
  {
   "cell_type": "code",
   "execution_count": 149,
   "id": "269e47e2-fd30-4766-a1be-03e048c1d31f",
   "metadata": {},
   "outputs": [
    {
     "data": {
      "text/plain": [
       "Transaction_ID     0\n",
       "Customer_Name      0\n",
       "Purchase_Date      0\n",
       "Amount_Spent      86\n",
       "Payment_Method     0\n",
       "Customer_Age      88\n",
       "dtype: int64"
      ]
     },
     "execution_count": 149,
     "metadata": {},
     "output_type": "execute_result"
    }
   ],
   "source": [
    "df.isnull().sum()"
   ]
  },
  {
   "cell_type": "code",
   "execution_count": 150,
   "id": "db42aead-e953-45a0-b86a-7669ae72304b",
   "metadata": {},
   "outputs": [
    {
     "data": {
      "text/plain": [
       "count      914.000000\n",
       "mean     10876.399475\n",
       "std      30903.202222\n",
       "min        -50.000000\n",
       "25%         75.500000\n",
       "50%        120.250000\n",
       "75%        320.750000\n",
       "max      99999.990000\n",
       "Name: Amount_Spent, dtype: float64"
      ]
     },
     "execution_count": 150,
     "metadata": {},
     "output_type": "execute_result"
    }
   ],
   "source": [
    "df[\"Amount_Spent\"].describe()"
   ]
  },
  {
   "cell_type": "code",
   "execution_count": 151,
   "id": "77727e0f-057f-42ca-b38c-d06df43f9954",
   "metadata": {},
   "outputs": [
    {
     "name": "stdout",
     "output_type": "stream",
     "text": [
      "8.6\n"
     ]
    }
   ],
   "source": [
    "#if the missing values is less than 10-15%  get the mean/meadian \n",
    "null_count = df[\"Amount_Spent\"].isnull().sum()\n",
    "as_count = len(df[\"Amount_Spent\"])\n",
    "\n",
    "#get the percentage\n",
    "percentage = (null_count / as_count) * 100 \n",
    "\n",
    "print(percentage)"
   ]
  },
  {
   "cell_type": "code",
   "execution_count": 152,
   "id": "58181143-0db0-479f-8391-0521b718bf34",
   "metadata": {},
   "outputs": [
    {
     "data": {
      "image/png": "[encoded data removed]",
      "text/plain": [
       "<Figure size 800x500 with 1 Axes>"
      ]
     },
     "metadata": {},
     "output_type": "display_data"
    }
   ],
   "source": [
    "#Since less than 10% we have to know if we will be using mean or median\n",
    "#we will be using median if their are outliers\n",
    "#we will be using the mean if there are no outliers\n",
    "#To know the median there are two ways, first is visualizing it using box plot\n",
    "\n",
    "#Box plot\n",
    "import matplotlib.pyplot as plt\n",
    "import seaborn as sns\n",
    "\n",
    "plt.figure(figsize = (8,5))\n",
    "sns.boxplot(x=df[\"Amount_Spent\"])\n",
    "plt.title('boxplot')\n",
    "plt.show()"
   ]
  },
  {
   "cell_type": "code",
   "execution_count": 153,
   "id": "8e41b33e-fe2c-4d14-adc4-d1dd1f84b12f",
   "metadata": {},
   "outputs": [
    {
     "data": {
      "image/png": "[encoded data removed]",
      "text/plain": [
       "<Figure size 800x500 with 1 Axes>"
      ]
     },
     "metadata": {},
     "output_type": "display_data"
    }
   ],
   "source": [
    "plt.figure(figsize=(8,5))\n",
    "sns.histplot(df[\"Amount_Spent\"], bins = 30, kde = True)\n",
    "plt.show()"
   ]
  },
  {
   "cell_type": "code",
   "execution_count": 154,
   "id": "1b92ba00-48be-4f3e-8621-0966025cd153",
   "metadata": {},
   "outputs": [
    {
     "name": "stdout",
     "output_type": "stream",
     "text": [
      "120.25\n"
     ]
    }
   ],
   "source": [
    "as_median = df[\"Amount_Spent\"].median()\n",
    "\n",
    "print(as_median)"
   ]
  },
  {
   "cell_type": "code",
   "execution_count": 155,
   "id": "db45d0d7-851f-41a5-ae45-a982d618b7b3",
   "metadata": {},
   "outputs": [],
   "source": [
    "df[\"Amount_Spent\"] = df['Amount_Spent'].fillna(as_median)"
   ]
  },
  {
   "cell_type": "code",
   "execution_count": 156,
   "id": "10e8b1d0-a024-467e-88aa-b7119412446d",
   "metadata": {},
   "outputs": [
    {
     "data": {
      "text/plain": [
       "0"
      ]
     },
     "execution_count": 156,
     "metadata": {},
     "output_type": "execute_result"
    }
   ],
   "source": [
    "df['Amount_Spent'].isnull().sum()"
   ]
  },
  {
   "cell_type": "code",
   "execution_count": 157,
   "id": "4ce5bb8d-6896-4b44-b034-4336a50bf4d0",
   "metadata": {},
   "outputs": [
    {
     "data": {
      "image/png": "[encoded data removed]",
      "text/plain": [
       "<Figure size 800x500 with 1 Axes>"
      ]
     },
     "metadata": {},
     "output_type": "display_data"
    }
   ],
   "source": [
    "plt.figure(figsize = (8,5))\n",
    "sns.histplot(df['Customer_Age'], bins = 30, kde = True)\n",
    "plt.show()\n"
   ]
  },
  {
   "cell_type": "code",
   "execution_count": 158,
   "id": "140a1db1-e982-420c-8581-4c7c1bc2306a",
   "metadata": {},
   "outputs": [
    {
     "name": "stdout",
     "output_type": "stream",
     "text": [
      "38.0\n"
     ]
    }
   ],
   "source": [
    "age_median = df['Customer_Age'].median()\n",
    "print(age_median)"
   ]
  },
  {
   "cell_type": "code",
   "execution_count": 159,
   "id": "06919a21-1b18-4010-97d6-666362a3e4b9",
   "metadata": {},
   "outputs": [],
   "source": [
    "df[\"Customer_Age\"] = df[\"Customer_Age\"].fillna(age_median)\n",
    "\n",
    "df = df.infer_objects()"
   ]
  },
  {
   "cell_type": "code",
   "execution_count": 160,
   "id": "c35e5a7b-4c11-4a8c-806a-40c63c4a005b",
   "metadata": {},
   "outputs": [
    {
     "data": {
      "text/plain": [
       "0"
      ]
     },
     "execution_count": 160,
     "metadata": {},
     "output_type": "execute_result"
    }
   ],
   "source": [
    "df[\"Customer_Age\"].isnull().sum()"
   ]
  },
  {
   "cell_type": "code",
   "execution_count": 161,
   "id": "234af906-e88d-4be6-b830-a45fceed410d",
   "metadata": {},
   "outputs": [
    {
     "data": {
      "text/plain": [
       "0      38.0\n",
       "1      34.0\n",
       "2      50.0\n",
       "3      38.0\n",
       "4      34.0\n",
       "       ... \n",
       "995    25.0\n",
       "996    30.0\n",
       "997    45.0\n",
       "998    50.0\n",
       "999    -5.0\n",
       "Name: Customer_Age, Length: 1000, dtype: float64"
      ]
     },
     "execution_count": 161,
     "metadata": {},
     "output_type": "execute_result"
    }
   ],
   "source": [
    "df['Customer_Age']"
   ]
  },
  {
   "cell_type": "code",
   "execution_count": 162,
   "id": "70a06b34-d93f-4b65-8572-c4e1663c2062",
   "metadata": {},
   "outputs": [
    {
     "data": {
      "text/plain": [
       "Transaction_ID    0\n",
       "Customer_Name     0\n",
       "Purchase_Date     0\n",
       "Amount_Spent      0\n",
       "Payment_Method    0\n",
       "Customer_Age      0\n",
       "dtype: int64"
      ]
     },
     "execution_count": 162,
     "metadata": {},
     "output_type": "execute_result"
    }
   ],
   "source": [
    "#Asses Negative values\n",
    "negs_amount_spent = df[df[\"Customer_Age\"] < 0 ]\n",
    "\n",
    "negs_amount_spent.isnull().sum()"
   ]
  },
  {
   "cell_type": "code",
   "execution_count": 163,
   "id": "d99ff079-22c9-48ea-96ad-0a109fe05e02",
   "metadata": {},
   "outputs": [
    {
     "data": {
      "text/plain": [
       "0        120.25\n",
       "1        500.30\n",
       "2         75.50\n",
       "3         85.00\n",
       "4        120.25\n",
       "         ...   \n",
       "995    99999.99\n",
       "996      320.75\n",
       "997      100.00\n",
       "998       60.00\n",
       "999       75.50\n",
       "Name: Amount_Spent, Length: 1000, dtype: float64"
      ]
     },
     "execution_count": 163,
     "metadata": {},
     "output_type": "execute_result"
    }
   ],
   "source": [
    "df['Amount_Spent']"
   ]
  },
  {
   "cell_type": "code",
   "execution_count": 164,
   "id": "315b4fd3-6f84-4d66-9214-46e14aba2c12",
   "metadata": {},
   "outputs": [
    {
     "name": "stdout",
     "output_type": "stream",
     "text": [
      "85\n"
     ]
    }
   ],
   "source": [
    "# Count negative values in the 'Amount_Spent' column\n",
    "negative_amount_spent = (df['Amount_Spent'] < 0).sum()\n",
    "print(negative_amount_spent)"
   ]
  },
  {
   "cell_type": "code",
   "execution_count": 165,
   "id": "c70c54a4-b9fb-4918-b1df-19b96642dd3b",
   "metadata": {},
   "outputs": [],
   "source": [
    "df['Amount_Spent'] = df['Amount_Spent'].apply(lambda x: x if x >= 0 else np.nan)"
   ]
  },
  {
   "cell_type": "code",
   "execution_count": 166,
   "id": "edce79c0-a2b0-4da1-ac5a-e62a6d78ffa7",
   "metadata": {},
   "outputs": [
    {
     "data": {
      "text/plain": [
       "85"
      ]
     },
     "execution_count": 166,
     "metadata": {},
     "output_type": "execute_result"
    }
   ],
   "source": [
    "df['Amount_Spent'].isnull().sum()"
   ]
  },
  {
   "cell_type": "code",
   "execution_count": 167,
   "id": "81dedaf8-e82e-402f-a22e-e13e6a4f95b4",
   "metadata": {},
   "outputs": [],
   "source": [
    "df['Amount_Spent'] = df['Amount_Spent'].fillna(as_median)"
   ]
  },
  {
   "cell_type": "code",
   "execution_count": 168,
   "id": "e8815cb6-7eae-4dfb-9d75-f5fd0531a2b0",
   "metadata": {},
   "outputs": [
    {
     "data": {
      "text/plain": [
       "0"
      ]
     },
     "execution_count": 168,
     "metadata": {},
     "output_type": "execute_result"
    }
   ],
   "source": [
    "df['Amount_Spent'].isnull().sum()"
   ]
  },
  {
   "cell_type": "code",
   "execution_count": 169,
   "id": "51388cca-ba6d-448f-ac67-5c5b24422118",
   "metadata": {},
   "outputs": [
    {
     "name": "stdout",
     "output_type": "stream",
     "text": [
      "74\n"
     ]
    }
   ],
   "source": [
    "negs_customer_age = (df['Customer_Age'] < 0 ).sum()\n",
    "print(negs_customer_age)"
   ]
  },
  {
   "cell_type": "code",
   "execution_count": 170,
   "id": "bb8670fc-45bf-4b38-bad4-ffc16dda9f94",
   "metadata": {},
   "outputs": [],
   "source": [
    "df['Customer_Age'] = df['Customer_Age'].apply(lambda x : x if x >= 0 else np.nan)"
   ]
  },
  {
   "cell_type": "code",
   "execution_count": 171,
   "id": "bbd66f1f-c3c3-450b-a048-1d7a9c717ac6",
   "metadata": {},
   "outputs": [
    {
     "data": {
      "text/plain": [
       "74"
      ]
     },
     "execution_count": 171,
     "metadata": {},
     "output_type": "execute_result"
    }
   ],
   "source": [
    "df['Customer_Age'].isnull().sum()"
   ]
  },
  {
   "cell_type": "code",
   "execution_count": 172,
   "id": "41c964d5-5d23-4e16-931d-9edaadcea856",
   "metadata": {},
   "outputs": [],
   "source": [
    "df['Customer_Age'] = df['Customer_Age'].fillna(age_median)"
   ]
  },
  {
   "cell_type": "code",
   "execution_count": 174,
   "id": "f1fc9913-1646-4360-93e8-c4423f35f3f8",
   "metadata": {},
   "outputs": [
    {
     "data": {
      "text/plain": [
       "0"
      ]
     },
     "execution_count": 174,
     "metadata": {},
     "output_type": "execute_result"
    }
   ],
   "source": [
    "df['Customer_Age'].isnull().sum()"
   ]
  },
  {
   "cell_type": "code",
   "execution_count": 176,
   "id": "f8f12260-6211-4846-b67d-bf5bae90d0e7",
   "metadata": {},
   "outputs": [
    {
     "data": {
      "text/plain": [
       "Transaction_ID    0\n",
       "Customer_Name     0\n",
       "Purchase_Date     0\n",
       "Amount_Spent      0\n",
       "Payment_Method    0\n",
       "Customer_Age      0\n",
       "dtype: int64"
      ]
     },
     "execution_count": 176,
     "metadata": {},
     "output_type": "execute_result"
    }
   ],
   "source": [
    "df.isnull().sum()"
   ]
  },
  {
   "cell_type": "code",
   "execution_count": null,
   "id": "21c6c644-d88c-4191-b2ea-cbed4a2aaf76",
   "metadata": {},
   "outputs": [],
   "source": []
  }
 ],
 "metadata": {
  "kernelspec": {
   "display_name": "Python 3 (ipykernel)",
   "language": "python",
   "name": "python3"
  },
  "language_info": {
   "codemirror_mode": {
    "name": "ipython",
    "version": 3
   },
   "file_extension": ".py",
   "mimetype": "text/x-python",
   "name": "python",
   "nbconvert_exporter": "python",
   "pygments_lexer": "ipython3",
   "version": "3.12.4"
  }
 },
 "nbformat": 4,
 "nbformat_minor": 5
}
