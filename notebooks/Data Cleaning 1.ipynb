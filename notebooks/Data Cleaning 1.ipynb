{
 "cells": [
  {
   "cell_type": "markdown",
   "id": "ff7e1b78-bfce-45bf-ae30-b693c7f194cc",
   "metadata": {},
   "source": [
    "<h3> Understanding the Data </h3>"
   ]
  },
  {
   "cell_type": "markdown",
   "id": "640d71d2-57a2-4672-ba5d-88f7a15249a1",
   "metadata": {},
   "source": [
    "<b> Check the structure </b> - How many rows and columns? <br>\n",
    "<b> Look at the column names </b> - Are there typos or consistencies?</br>\n",
    "<b> Check the datatypes </b> - Are numbers stored as texts? are dates formatted correctly?</br>\n",
    "<b> identify missing or consitent values </b>"
   ]
  },
  {
   "cell_type": "code",
   "execution_count": 807,
   "id": "ed2824ab-e0db-4900-ae52-ee609254e48c",
   "metadata": {},
   "outputs": [],
   "source": [
    "import pandas as pd\n",
    "import numpy as np\n",
    "import matplotlib.pyplot as plt\n",
    "import seaborn as sns"
   ]
  },
  {
   "cell_type": "code",
   "execution_count": 808,
   "id": "79497bb4-a98d-48a0-aeb0-a8914851393e",
   "metadata": {},
   "outputs": [
    {
     "data": {
      "text/html": [
       "<div>\n",
       "<style scoped>\n",
       "    .dataframe tbody tr th:only-of-type {\n",
       "        vertical-align: middle;\n",
       "    }\n",
       "\n",
       "    .dataframe tbody tr th {\n",
       "        vertical-align: top;\n",
       "    }\n",
       "\n",
       "    .dataframe thead th {\n",
       "        text-align: right;\n",
       "    }\n",
       "</style>\n",
       "<table border=\"1\" class=\"dataframe\">\n",
       "  <thead>\n",
       "    <tr style=\"text-align: right;\">\n",
       "      <th></th>\n",
       "      <th>Transaction ID</th>\n",
       "      <th>Customer Name</th>\n",
       "      <th>Email</th>\n",
       "      <th>Age</th>\n",
       "      <th>City</th>\n",
       "      <th>Transaction Date</th>\n",
       "      <th>Product Category</th>\n",
       "      <th>Amount ($)</th>\n",
       "      <th>Payment Method</th>\n",
       "      <th>Review</th>\n",
       "    </tr>\n",
       "  </thead>\n",
       "  <tbody>\n",
       "    <tr>\n",
       "      <th>0</th>\n",
       "      <td>718969</td>\n",
       "      <td>Grace</td>\n",
       "      <td>+63 917 848()0427</td>\n",
       "      <td>80</td>\n",
       "      <td>New York</td>\n",
       "      <td>29/05/2023</td>\n",
       "      <td>Home &amp; Kitchen</td>\n",
       "      <td>NaN</td>\n",
       "      <td>PayPal</td>\n",
       "      <td>!!!Extra punctuation???</td>\n",
       "    </tr>\n",
       "    <tr>\n",
       "      <th>1</th>\n",
       "      <td>480570</td>\n",
       "      <td>Bob</td>\n",
       "      <td>09454470547</td>\n",
       "      <td>31</td>\n",
       "      <td>NaN</td>\n",
       "      <td>NaN</td>\n",
       "      <td>Electronics</td>\n",
       "      <td>10000</td>\n",
       "      <td>debit_card</td>\n",
       "      <td>Data cleaning is necessary...</td>\n",
       "    </tr>\n",
       "    <tr>\n",
       "      <th>2</th>\n",
       "      <td>761860</td>\n",
       "      <td>Alice</td>\n",
       "      <td>0998-421()7989</td>\n",
       "      <td>23</td>\n",
       "      <td>Maimi</td>\n",
       "      <td>December 20, 2023</td>\n",
       "      <td>Boks</td>\n",
       "      <td>10000</td>\n",
       "      <td>CASH</td>\n",
       "      <td>Messy,   text with   spaces!</td>\n",
       "    </tr>\n",
       "    <tr>\n",
       "      <th>3</th>\n",
       "      <td>414220</td>\n",
       "      <td>Henry</td>\n",
       "      <td>0998 3003209</td>\n",
       "      <td>54</td>\n",
       "      <td>San Francisco</td>\n",
       "      <td>March 22, 2023</td>\n",
       "      <td>Groceries</td>\n",
       "      <td>10000</td>\n",
       "      <td>PayPal</td>\n",
       "      <td>This is a   sample review.</td>\n",
       "    </tr>\n",
       "    <tr>\n",
       "      <th>4</th>\n",
       "      <td>130403</td>\n",
       "      <td>David</td>\n",
       "      <td>0917 894()3535</td>\n",
       "      <td>twenty</td>\n",
       "      <td>Seattl</td>\n",
       "      <td>February 21, 2023</td>\n",
       "      <td>Boks</td>\n",
       "      <td>266.0598752443908</td>\n",
       "      <td>PayPal</td>\n",
       "      <td>Messy,   text with   spaces!</td>\n",
       "    </tr>\n",
       "    <tr>\n",
       "      <th>...</th>\n",
       "      <td>...</td>\n",
       "      <td>...</td>\n",
       "      <td>...</td>\n",
       "      <td>...</td>\n",
       "      <td>...</td>\n",
       "      <td>...</td>\n",
       "      <td>...</td>\n",
       "      <td>...</td>\n",
       "      <td>...</td>\n",
       "      <td>...</td>\n",
       "    </tr>\n",
       "    <tr>\n",
       "      <th>2305</th>\n",
       "      <td>621995</td>\n",
       "      <td>Eva</td>\n",
       "      <td>0917-795()0215</td>\n",
       "      <td>twenty</td>\n",
       "      <td>Maimi</td>\n",
       "      <td>NaN</td>\n",
       "      <td>Groceries</td>\n",
       "      <td>1K</td>\n",
       "      <td>paypal</td>\n",
       "      <td>This is a   sample review.</td>\n",
       "    </tr>\n",
       "    <tr>\n",
       "      <th>2306</th>\n",
       "      <td>261557</td>\n",
       "      <td>Alice</td>\n",
       "      <td>+63 998988.5528</td>\n",
       "      <td>NaN</td>\n",
       "      <td>Nw York</td>\n",
       "      <td>24/08/2023</td>\n",
       "      <td>Home &amp; Kitchen</td>\n",
       "      <td>10000</td>\n",
       "      <td>Credit Card</td>\n",
       "      <td>lots   of   spaces   here</td>\n",
       "    </tr>\n",
       "    <tr>\n",
       "      <th>2307</th>\n",
       "      <td>237136</td>\n",
       "      <td>Alice</td>\n",
       "      <td>0945.2195043</td>\n",
       "      <td>150</td>\n",
       "      <td>San Fransisco</td>\n",
       "      <td>2023-09-11</td>\n",
       "      <td>Electrnics</td>\n",
       "      <td>391.71980058668044</td>\n",
       "      <td>credit card</td>\n",
       "      <td>Some RANDOM capitalization issueS</td>\n",
       "    </tr>\n",
       "    <tr>\n",
       "      <th>2308</th>\n",
       "      <td>831339</td>\n",
       "      <td>Grace</td>\n",
       "      <td>0998()0396326</td>\n",
       "      <td>twenty</td>\n",
       "      <td>Chcago</td>\n",
       "      <td>September 04, 2023</td>\n",
       "      <td>Toys</td>\n",
       "      <td>NaN</td>\n",
       "      <td>credit card</td>\n",
       "      <td>NaN</td>\n",
       "    </tr>\n",
       "    <tr>\n",
       "      <th>2309</th>\n",
       "      <td>964165</td>\n",
       "      <td>Grace</td>\n",
       "      <td>+63 945247()2909</td>\n",
       "      <td>NaN</td>\n",
       "      <td>Chicago</td>\n",
       "      <td>January 17, 2023</td>\n",
       "      <td>Sports</td>\n",
       "      <td>10000</td>\n",
       "      <td>NaN</td>\n",
       "      <td>Data cleaning is necessary...</td>\n",
       "    </tr>\n",
       "  </tbody>\n",
       "</table>\n",
       "<p>2310 rows × 10 columns</p>\n",
       "</div>"
      ],
      "text/plain": [
       "      Transaction ID Customer Name              Email     Age           City  \\\n",
       "0             718969         Grace  +63 917 848()0427      80       New York   \n",
       "1             480570          Bob         09454470547      31            NaN   \n",
       "2             761860        Alice      0998-421()7989      23          Maimi   \n",
       "3             414220         Henry       0998 3003209      54  San Francisco   \n",
       "4             130403         David     0917 894()3535  twenty         Seattl   \n",
       "...              ...           ...                ...     ...            ...   \n",
       "2305          621995         Eva       0917-795()0215  twenty          Maimi   \n",
       "2306          261557        Alice     +63 998988.5528     NaN        Nw York   \n",
       "2307          237136        Alice        0945.2195043     150  San Fransisco   \n",
       "2308          831339         Grace      0998()0396326  twenty         Chcago   \n",
       "2309          964165         Grace   +63 945247()2909     NaN        Chicago   \n",
       "\n",
       "        Transaction Date Product Category          Amount ($) Payment Method  \\\n",
       "0             29/05/2023   Home & Kitchen                 NaN         PayPal   \n",
       "1                    NaN      Electronics               10000     debit_card   \n",
       "2      December 20, 2023             Boks               10000           CASH   \n",
       "3         March 22, 2023        Groceries               10000         PayPal   \n",
       "4      February 21, 2023             Boks   266.0598752443908         PayPal   \n",
       "...                  ...              ...                 ...            ...   \n",
       "2305                 NaN        Groceries                  1K         paypal   \n",
       "2306          24/08/2023   Home & Kitchen               10000    Credit Card   \n",
       "2307          2023-09-11       Electrnics  391.71980058668044   credit card    \n",
       "2308  September 04, 2023             Toys                 NaN   credit card    \n",
       "2309    January 17, 2023           Sports               10000            NaN   \n",
       "\n",
       "                                 Review  \n",
       "0               !!!Extra punctuation???  \n",
       "1         Data cleaning is necessary...  \n",
       "2          Messy,   text with   spaces!  \n",
       "3          This is a   sample review.    \n",
       "4          Messy,   text with   spaces!  \n",
       "...                                 ...  \n",
       "2305       This is a   sample review.    \n",
       "2306        lots   of   spaces   here    \n",
       "2307  Some RANDOM capitalization issueS  \n",
       "2308                                NaN  \n",
       "2309      Data cleaning is necessary...  \n",
       "\n",
       "[2310 rows x 10 columns]"
      ]
     },
     "execution_count": 808,
     "metadata": {},
     "output_type": "execute_result"
    }
   ],
   "source": [
    "df = pd.read_csv('D://messy_transaction.csv')\n",
    "df"
   ]
  },
  {
   "cell_type": "markdown",
   "id": "088fdddf-2bcd-4a0b-90a6-c18b1a33e712",
   "metadata": {},
   "source": [
    "<h4> Check the Basic Information </h4>"
   ]
  },
  {
   "cell_type": "code",
   "execution_count": 809,
   "id": "ea6843db-bd31-4e5f-a31d-daf81fafeddf",
   "metadata": {},
   "outputs": [
    {
     "name": "stdout",
     "output_type": "stream",
     "text": [
      "<class 'pandas.core.frame.DataFrame'>\n",
      "RangeIndex: 2310 entries, 0 to 2309\n",
      "Data columns (total 10 columns):\n",
      " #   Column            Non-Null Count  Dtype \n",
      "---  ------            --------------  ----- \n",
      " 0   Transaction ID    2310 non-null   int64 \n",
      " 1   Customer Name     2310 non-null   object\n",
      " 2   Email             2310 non-null   object\n",
      " 3   Age               1553 non-null   object\n",
      " 4   City              2162 non-null   object\n",
      " 5   Transaction Date  1766 non-null   object\n",
      " 6   Product Category  2310 non-null   object\n",
      " 7   Amount ($)        1678 non-null   object\n",
      " 8   Payment Method    2092 non-null   object\n",
      " 9   Review            1811 non-null   object\n",
      "dtypes: int64(1), object(9)\n",
      "memory usage: 180.6+ KB\n",
      "None\n"
     ]
    }
   ],
   "source": [
    "print(df.info())"
   ]
  },
  {
   "cell_type": "code",
   "execution_count": 810,
   "id": "9658ca5f-a5b4-494c-b470-b66fe98593f2",
   "metadata": {},
   "outputs": [
    {
     "data": {
      "text/plain": [
       "Transaction ID       int64\n",
       "Customer Name       object\n",
       "Email               object\n",
       "Age                 object\n",
       "City                object\n",
       "Transaction Date    object\n",
       "Product Category    object\n",
       "Amount ($)          object\n",
       "Payment Method      object\n",
       "Review              object\n",
       "dtype: object"
      ]
     },
     "execution_count": 810,
     "metadata": {},
     "output_type": "execute_result"
    }
   ],
   "source": [
    "df.dtypes"
   ]
  },
  {
   "cell_type": "markdown",
   "id": "0dbf6899-7b0e-4fd4-b49b-e516409bcbaa",
   "metadata": {},
   "source": [
    "<h3> Check for Missing Values and Duplicates </h3>"
   ]
  },
  {
   "cell_type": "code",
   "execution_count": 811,
   "id": "4ccc700a-2800-4b0f-89ad-9ce788cba79a",
   "metadata": {},
   "outputs": [
    {
     "data": {
      "text/plain": [
       "Transaction ID        0\n",
       "Customer Name         0\n",
       "Email                 0\n",
       "Age                 757\n",
       "City                148\n",
       "Transaction Date    544\n",
       "Product Category      0\n",
       "Amount ($)          632\n",
       "Payment Method      218\n",
       "Review              499\n",
       "dtype: int64"
      ]
     },
     "execution_count": 811,
     "metadata": {},
     "output_type": "execute_result"
    }
   ],
   "source": [
    "df.isnull().sum()"
   ]
  },
  {
   "cell_type": "code",
   "execution_count": 812,
   "id": "60ffe9ca-6347-4596-b0d3-881abd3ada93",
   "metadata": {},
   "outputs": [
    {
     "data": {
      "text/plain": [
       "210"
      ]
     },
     "execution_count": 812,
     "metadata": {},
     "output_type": "execute_result"
    }
   ],
   "source": [
    "df.duplicated().sum()"
   ]
  },
  {
   "cell_type": "code",
   "execution_count": 813,
   "id": "993b76a0-5563-4df2-aff8-6d485c6b9e8d",
   "metadata": {},
   "outputs": [
    {
     "name": "stdout",
     "output_type": "stream",
     "text": [
      "[2100, 2101, 2102, 2103, 2104, 2105, 2106, 2107, 2108, 2109, 2110, 2111, 2112, 2113, 2114, 2115, 2116, 2117, 2118, 2119, 2120, 2121, 2122, 2123, 2124, 2125, 2126, 2127, 2128, 2129, 2130, 2131, 2132, 2133, 2134, 2135, 2136, 2137, 2138, 2139, 2140, 2141, 2142, 2143, 2144, 2145, 2146, 2147, 2148, 2149, 2150, 2151, 2152, 2153, 2154, 2155, 2156, 2157, 2158, 2159, 2160, 2161, 2162, 2163, 2164, 2165, 2166, 2167, 2168, 2169, 2170, 2171, 2172, 2173, 2174, 2175, 2176, 2177, 2178, 2179, 2180, 2181, 2182, 2183, 2184, 2185, 2186, 2187, 2188, 2189, 2190, 2191, 2192, 2193, 2194, 2195, 2196, 2197, 2198, 2199, 2200, 2201, 2202, 2203, 2204, 2205, 2206, 2207, 2208, 2209, 2210, 2211, 2212, 2213, 2214, 2215, 2216, 2217, 2218, 2219, 2220, 2221, 2222, 2223, 2224, 2225, 2226, 2227, 2228, 2229, 2230, 2231, 2232, 2233, 2234, 2235, 2236, 2237, 2238, 2239, 2240, 2241, 2242, 2243, 2244, 2245, 2246, 2247, 2248, 2249, 2250, 2251, 2252, 2253, 2254, 2255, 2256, 2257, 2258, 2259, 2260, 2261, 2262, 2263, 2264, 2265, 2266, 2267, 2268, 2269, 2270, 2271, 2272, 2273, 2274, 2275, 2276, 2277, 2278, 2279, 2280, 2281, 2282, 2283, 2284, 2285, 2286, 2287, 2288, 2289, 2290, 2291, 2292, 2293, 2294, 2295, 2296, 2297, 2298, 2299, 2300, 2301, 2302, 2303, 2304, 2305, 2306, 2307, 2308, 2309]\n"
     ]
    }
   ],
   "source": [
    "#check which specific rows has duplicates\n",
    "duplicate_rows = df[df.duplicated(keep = False)]\n",
    "\n",
    "#if we want only the indices\n",
    "duplicate_index = df[df.duplicated()].index\n",
    "print(duplicate_index.tolist())"
   ]
  },
  {
   "cell_type": "markdown",
   "id": "6b55d023-8451-4890-8042-2d81bd12d7f3",
   "metadata": {},
   "source": [
    "<h3>  Tackling Common Data Issues Across All Columns </h3>"
   ]
  },
  {
   "cell_type": "markdown",
   "id": "33f7ebf1-42f5-43cb-82e7-42d20f55d8f8",
   "metadata": {},
   "source": [
    "<h4> Modification of Column Names </h4> "
   ]
  },
  {
   "cell_type": "code",
   "execution_count": 814,
   "id": "e26f38cf-6aaa-4c26-af2f-755f7a4b0204",
   "metadata": {},
   "outputs": [],
   "source": [
    "#To change a speficic column\n",
    "\n",
    "df = df.rename(columns = { 'Transaction ID' : 'transaction_id',\n",
    "                           'Customer Name' : 'customer_name',\n",
    "                            'Email' : 'phone_number',\n",
    "                            'Age' : 'age',\n",
    "                            'City' : 'city',\n",
    "                            'Transaction Date' : 'transaction_date',\n",
    "                             'Product Category' : 'product_category',\n",
    "                             'Amount ($)': 'amount',\n",
    "                              'Payment Method' : 'payment_method',\n",
    "                              'Review' : 'review'\n",
    " })\n",
    "\n",
    "\n",
    "#to change all the spaces in the columns (only if all the columns has the same datatype)\n",
    "\n",
    "#df.columns = df.str.replace(' ', '_').str.lower()"
   ]
  },
  {
   "cell_type": "markdown",
   "id": "a0e9c30c-645e-4857-9a21-b573c5b765cf",
   "metadata": {},
   "source": [
    "<h4> Dropping Duplicates </h4>"
   ]
  },
  {
   "cell_type": "code",
   "execution_count": 815,
   "id": "25252c95-81a7-456d-957c-0a31b1062a86",
   "metadata": {},
   "outputs": [],
   "source": [
    "df = df.drop_duplicates()"
   ]
  },
  {
   "cell_type": "code",
   "execution_count": 816,
   "id": "d6605979-d878-4244-897d-7db4001a6aa7",
   "metadata": {},
   "outputs": [
    {
     "data": {
      "text/plain": [
       "0"
      ]
     },
     "execution_count": 816,
     "metadata": {},
     "output_type": "execute_result"
    }
   ],
   "source": [
    "df.duplicated().sum()"
   ]
  },
  {
   "cell_type": "markdown",
   "id": "619e27fb-07fb-4d7e-aa60-23e734266292",
   "metadata": {},
   "source": [
    "<h3> Clean Each Column </h3>"
   ]
  },
  {
   "cell_type": "code",
   "execution_count": 817,
   "id": "eaa6d3c2-a799-4f04-90da-5d3e8d90a2a7",
   "metadata": {},
   "outputs": [
    {
     "data": {
      "text/plain": [
       "Index(['transaction_id', 'customer_name', 'phone_number', 'age', 'city',\n",
       "       'transaction_date', 'product_category', 'amount', 'payment_method',\n",
       "       'review'],\n",
       "      dtype='object')"
      ]
     },
     "execution_count": 817,
     "metadata": {},
     "output_type": "execute_result"
    }
   ],
   "source": [
    "df.columns"
   ]
  },
  {
   "cell_type": "markdown",
   "id": "8c12573d-87da-4592-9792-44944869240f",
   "metadata": {},
   "source": [
    "<h4> For Customer Name </h4>"
   ]
  },
  {
   "cell_type": "code",
   "execution_count": 818,
   "id": "2a64e9f5-6e94-418f-94f7-e407ce74bf99",
   "metadata": {},
   "outputs": [],
   "source": [
    "# to remove white spaces\n",
    "df.loc[:, 'customer_name'] = df['customer_name'].str.strip()\n",
    "\n",
    "#to standardize capitalization\n",
    "df.loc[:, 'customer_name'] = df['customer_name'].str.title()"
   ]
  },
  {
   "cell_type": "code",
   "execution_count": 819,
   "id": "f8686441-5ddb-4db7-b22d-0186328eddae",
   "metadata": {},
   "outputs": [],
   "source": [
    "#Check for invalid characters\n",
    "df.loc[:, 'customer_name'] = df['customer_name'].str.replace(r'[^a-zA-Z\\s]', '', regex = True)"
   ]
  },
  {
   "cell_type": "markdown",
   "id": "0df67ac3-f282-4abc-944b-871e193471a0",
   "metadata": {},
   "source": [
    "<h4> For Phone Number </h4>"
   ]
  },
  {
   "cell_type": "code",
   "execution_count": 820,
   "id": "f585acbb-2091-466c-bf2e-73510340d328",
   "metadata": {},
   "outputs": [
    {
     "name": "stdout",
     "output_type": "stream",
     "text": [
      "0       +63 917 848()0427\n",
      "1             09454470547\n",
      "2          0998-421()7989\n",
      "3            0998 3003209\n",
      "4          0917 894()3535\n",
      "              ...        \n",
      "2095       0920.793()4135\n",
      "2096      +63 920.3608516\n",
      "2097     +63 920-982-4644\n",
      "2098     +63 920-021.0027\n",
      "2099       0998 758()9228\n",
      "Name: phone_number, Length: 2100, dtype: object\n"
     ]
    }
   ],
   "source": [
    "print(df['phone_number'])"
   ]
  },
  {
   "cell_type": "code",
   "execution_count": 821,
   "id": "32f71118-c579-48d9-95e7-13e9576e8d11",
   "metadata": {},
   "outputs": [],
   "source": [
    "#replace invalid characters\n",
    "df['phone_number'] = df['phone_number'].str.replace(r'[()-.]', '', regex = True)"
   ]
  },
  {
   "cell_type": "code",
   "execution_count": 822,
   "id": "3315ff0d-d754-49ca-9396-f6dfc6bbb923",
   "metadata": {},
   "outputs": [],
   "source": [
    "#remove white spaces\n",
    "df.loc[:,'phone_number'] = df['phone_number'].str.strip()\n",
    "\n",
    "#remove spaces in betwee\n",
    "df['phone_number'] = df['phone_number'].str.replace(' ', '', regex = True)"
   ]
  },
  {
   "cell_type": "code",
   "execution_count": 823,
   "id": "2ff73717-3f69-4abd-9ce4-519340b556c9",
   "metadata": {},
   "outputs": [
    {
     "data": {
      "text/html": [
       "<div>\n",
       "<style scoped>\n",
       "    .dataframe tbody tr th:only-of-type {\n",
       "        vertical-align: middle;\n",
       "    }\n",
       "\n",
       "    .dataframe tbody tr th {\n",
       "        vertical-align: top;\n",
       "    }\n",
       "\n",
       "    .dataframe thead th {\n",
       "        text-align: right;\n",
       "    }\n",
       "</style>\n",
       "<table border=\"1\" class=\"dataframe\">\n",
       "  <thead>\n",
       "    <tr style=\"text-align: right;\">\n",
       "      <th></th>\n",
       "      <th>transaction_id</th>\n",
       "      <th>customer_name</th>\n",
       "      <th>phone_number</th>\n",
       "      <th>age</th>\n",
       "      <th>city</th>\n",
       "      <th>transaction_date</th>\n",
       "      <th>product_category</th>\n",
       "      <th>amount</th>\n",
       "      <th>payment_method</th>\n",
       "      <th>review</th>\n",
       "    </tr>\n",
       "  </thead>\n",
       "  <tbody>\n",
       "    <tr>\n",
       "      <th>0</th>\n",
       "      <td>718969</td>\n",
       "      <td>Grace</td>\n",
       "      <td>639178480427</td>\n",
       "      <td>80</td>\n",
       "      <td>New York</td>\n",
       "      <td>29/05/2023</td>\n",
       "      <td>Home &amp; Kitchen</td>\n",
       "      <td>NaN</td>\n",
       "      <td>PayPal</td>\n",
       "      <td>!!!Extra punctuation???</td>\n",
       "    </tr>\n",
       "    <tr>\n",
       "      <th>1</th>\n",
       "      <td>480570</td>\n",
       "      <td>Bob</td>\n",
       "      <td>09454470547</td>\n",
       "      <td>31</td>\n",
       "      <td>NaN</td>\n",
       "      <td>NaN</td>\n",
       "      <td>Electronics</td>\n",
       "      <td>10000</td>\n",
       "      <td>debit_card</td>\n",
       "      <td>Data cleaning is necessary...</td>\n",
       "    </tr>\n",
       "    <tr>\n",
       "      <th>2</th>\n",
       "      <td>761860</td>\n",
       "      <td>Alice</td>\n",
       "      <td>09984217989</td>\n",
       "      <td>23</td>\n",
       "      <td>Maimi</td>\n",
       "      <td>December 20, 2023</td>\n",
       "      <td>Boks</td>\n",
       "      <td>10000</td>\n",
       "      <td>CASH</td>\n",
       "      <td>Messy,   text with   spaces!</td>\n",
       "    </tr>\n",
       "    <tr>\n",
       "      <th>3</th>\n",
       "      <td>414220</td>\n",
       "      <td>Henry</td>\n",
       "      <td>09983003209</td>\n",
       "      <td>54</td>\n",
       "      <td>San Francisco</td>\n",
       "      <td>March 22, 2023</td>\n",
       "      <td>Groceries</td>\n",
       "      <td>10000</td>\n",
       "      <td>PayPal</td>\n",
       "      <td>This is a   sample review.</td>\n",
       "    </tr>\n",
       "    <tr>\n",
       "      <th>4</th>\n",
       "      <td>130403</td>\n",
       "      <td>David</td>\n",
       "      <td>09178943535</td>\n",
       "      <td>twenty</td>\n",
       "      <td>Seattl</td>\n",
       "      <td>February 21, 2023</td>\n",
       "      <td>Boks</td>\n",
       "      <td>266.0598752443908</td>\n",
       "      <td>PayPal</td>\n",
       "      <td>Messy,   text with   spaces!</td>\n",
       "    </tr>\n",
       "    <tr>\n",
       "      <th>...</th>\n",
       "      <td>...</td>\n",
       "      <td>...</td>\n",
       "      <td>...</td>\n",
       "      <td>...</td>\n",
       "      <td>...</td>\n",
       "      <td>...</td>\n",
       "      <td>...</td>\n",
       "      <td>...</td>\n",
       "      <td>...</td>\n",
       "      <td>...</td>\n",
       "    </tr>\n",
       "    <tr>\n",
       "      <th>2095</th>\n",
       "      <td>551267</td>\n",
       "      <td>Eva</td>\n",
       "      <td>09207934135</td>\n",
       "      <td>150</td>\n",
       "      <td>Seattl</td>\n",
       "      <td>04/03/2023</td>\n",
       "      <td>Electronics</td>\n",
       "      <td>three hundred</td>\n",
       "      <td>Cash</td>\n",
       "      <td>!!!Extra punctuation???</td>\n",
       "    </tr>\n",
       "    <tr>\n",
       "      <th>2096</th>\n",
       "      <td>765004</td>\n",
       "      <td>Grace</td>\n",
       "      <td>639203608516</td>\n",
       "      <td>-5</td>\n",
       "      <td>Los Angeles</td>\n",
       "      <td>03/02/2023</td>\n",
       "      <td>Sprts</td>\n",
       "      <td>1K</td>\n",
       "      <td>NaN</td>\n",
       "      <td>This is a   sample review.</td>\n",
       "    </tr>\n",
       "    <tr>\n",
       "      <th>2097</th>\n",
       "      <td>150839</td>\n",
       "      <td>Eva</td>\n",
       "      <td>639209824644</td>\n",
       "      <td>twenty</td>\n",
       "      <td>Chicago</td>\n",
       "      <td>03/12/2023</td>\n",
       "      <td>Toys</td>\n",
       "      <td>21.572884735974835</td>\n",
       "      <td>Debit Card</td>\n",
       "      <td>lots   of   spaces   here</td>\n",
       "    </tr>\n",
       "    <tr>\n",
       "      <th>2098</th>\n",
       "      <td>689611</td>\n",
       "      <td>Bob</td>\n",
       "      <td>639200210027</td>\n",
       "      <td>150</td>\n",
       "      <td>New York</td>\n",
       "      <td>23/05/2023</td>\n",
       "      <td>Home &amp; Kitchen</td>\n",
       "      <td>-50</td>\n",
       "      <td>CASH</td>\n",
       "      <td>Data cleaning is necessary...</td>\n",
       "    </tr>\n",
       "    <tr>\n",
       "      <th>2099</th>\n",
       "      <td>979856</td>\n",
       "      <td>Frank</td>\n",
       "      <td>09987589228</td>\n",
       "      <td>150</td>\n",
       "      <td>Maimi</td>\n",
       "      <td>2023-10-09</td>\n",
       "      <td>Books</td>\n",
       "      <td>NaN</td>\n",
       "      <td>Cash</td>\n",
       "      <td>Data cleaning is necessary...</td>\n",
       "    </tr>\n",
       "  </tbody>\n",
       "</table>\n",
       "<p>2100 rows × 10 columns</p>\n",
       "</div>"
      ],
      "text/plain": [
       "      transaction_id customer_name  phone_number     age           city  \\\n",
       "0             718969         Grace  639178480427      80       New York   \n",
       "1             480570           Bob   09454470547      31            NaN   \n",
       "2             761860         Alice   09984217989      23          Maimi   \n",
       "3             414220         Henry   09983003209      54  San Francisco   \n",
       "4             130403         David   09178943535  twenty         Seattl   \n",
       "...              ...           ...           ...     ...            ...   \n",
       "2095          551267           Eva   09207934135     150         Seattl   \n",
       "2096          765004         Grace  639203608516      -5    Los Angeles   \n",
       "2097          150839           Eva  639209824644  twenty        Chicago   \n",
       "2098          689611           Bob  639200210027     150       New York   \n",
       "2099          979856         Frank   09987589228     150          Maimi   \n",
       "\n",
       "       transaction_date product_category              amount payment_method  \\\n",
       "0            29/05/2023   Home & Kitchen                 NaN         PayPal   \n",
       "1                   NaN      Electronics               10000     debit_card   \n",
       "2     December 20, 2023             Boks               10000           CASH   \n",
       "3        March 22, 2023        Groceries               10000         PayPal   \n",
       "4     February 21, 2023             Boks   266.0598752443908         PayPal   \n",
       "...                 ...              ...                 ...            ...   \n",
       "2095         04/03/2023      Electronics       three hundred           Cash   \n",
       "2096         03/02/2023            Sprts                  1K            NaN   \n",
       "2097         03/12/2023             Toys  21.572884735974835     Debit Card   \n",
       "2098         23/05/2023   Home & Kitchen                 -50           CASH   \n",
       "2099         2023-10-09            Books                 NaN           Cash   \n",
       "\n",
       "                              review  \n",
       "0            !!!Extra punctuation???  \n",
       "1      Data cleaning is necessary...  \n",
       "2       Messy,   text with   spaces!  \n",
       "3       This is a   sample review.    \n",
       "4       Messy,   text with   spaces!  \n",
       "...                              ...  \n",
       "2095         !!!Extra punctuation???  \n",
       "2096    This is a   sample review.    \n",
       "2097     lots   of   spaces   here    \n",
       "2098   Data cleaning is necessary...  \n",
       "2099   Data cleaning is necessary...  \n",
       "\n",
       "[2100 rows x 10 columns]"
      ]
     },
     "execution_count": 823,
     "metadata": {},
     "output_type": "execute_result"
    }
   ],
   "source": [
    "df"
   ]
  },
  {
   "cell_type": "code",
   "execution_count": 824,
   "id": "7c73eda1-c778-434e-b024-f37bb7cecc7c",
   "metadata": {},
   "outputs": [],
   "source": [
    "df['phone_number'] = df['phone_number'].apply(lambda x: x if x.startswith('0') else '0' + x.lstrip('63'))"
   ]
  },
  {
   "cell_type": "code",
   "execution_count": 825,
   "id": "41913486-1290-4eb6-8ab7-30169bf0d240",
   "metadata": {},
   "outputs": [
    {
     "data": {
      "text/html": [
       "<div>\n",
       "<style scoped>\n",
       "    .dataframe tbody tr th:only-of-type {\n",
       "        vertical-align: middle;\n",
       "    }\n",
       "\n",
       "    .dataframe tbody tr th {\n",
       "        vertical-align: top;\n",
       "    }\n",
       "\n",
       "    .dataframe thead th {\n",
       "        text-align: right;\n",
       "    }\n",
       "</style>\n",
       "<table border=\"1\" class=\"dataframe\">\n",
       "  <thead>\n",
       "    <tr style=\"text-align: right;\">\n",
       "      <th></th>\n",
       "      <th>transaction_id</th>\n",
       "      <th>customer_name</th>\n",
       "      <th>phone_number</th>\n",
       "      <th>age</th>\n",
       "      <th>city</th>\n",
       "      <th>transaction_date</th>\n",
       "      <th>product_category</th>\n",
       "      <th>amount</th>\n",
       "      <th>payment_method</th>\n",
       "      <th>review</th>\n",
       "    </tr>\n",
       "  </thead>\n",
       "  <tbody>\n",
       "    <tr>\n",
       "      <th>0</th>\n",
       "      <td>718969</td>\n",
       "      <td>Grace</td>\n",
       "      <td>09178480427</td>\n",
       "      <td>80</td>\n",
       "      <td>New York</td>\n",
       "      <td>29/05/2023</td>\n",
       "      <td>Home &amp; Kitchen</td>\n",
       "      <td>NaN</td>\n",
       "      <td>PayPal</td>\n",
       "      <td>!!!Extra punctuation???</td>\n",
       "    </tr>\n",
       "    <tr>\n",
       "      <th>1</th>\n",
       "      <td>480570</td>\n",
       "      <td>Bob</td>\n",
       "      <td>09454470547</td>\n",
       "      <td>31</td>\n",
       "      <td>NaN</td>\n",
       "      <td>NaN</td>\n",
       "      <td>Electronics</td>\n",
       "      <td>10000</td>\n",
       "      <td>debit_card</td>\n",
       "      <td>Data cleaning is necessary...</td>\n",
       "    </tr>\n",
       "    <tr>\n",
       "      <th>2</th>\n",
       "      <td>761860</td>\n",
       "      <td>Alice</td>\n",
       "      <td>09984217989</td>\n",
       "      <td>23</td>\n",
       "      <td>Maimi</td>\n",
       "      <td>December 20, 2023</td>\n",
       "      <td>Boks</td>\n",
       "      <td>10000</td>\n",
       "      <td>CASH</td>\n",
       "      <td>Messy,   text with   spaces!</td>\n",
       "    </tr>\n",
       "    <tr>\n",
       "      <th>3</th>\n",
       "      <td>414220</td>\n",
       "      <td>Henry</td>\n",
       "      <td>09983003209</td>\n",
       "      <td>54</td>\n",
       "      <td>San Francisco</td>\n",
       "      <td>March 22, 2023</td>\n",
       "      <td>Groceries</td>\n",
       "      <td>10000</td>\n",
       "      <td>PayPal</td>\n",
       "      <td>This is a   sample review.</td>\n",
       "    </tr>\n",
       "    <tr>\n",
       "      <th>4</th>\n",
       "      <td>130403</td>\n",
       "      <td>David</td>\n",
       "      <td>09178943535</td>\n",
       "      <td>twenty</td>\n",
       "      <td>Seattl</td>\n",
       "      <td>February 21, 2023</td>\n",
       "      <td>Boks</td>\n",
       "      <td>266.0598752443908</td>\n",
       "      <td>PayPal</td>\n",
       "      <td>Messy,   text with   spaces!</td>\n",
       "    </tr>\n",
       "    <tr>\n",
       "      <th>...</th>\n",
       "      <td>...</td>\n",
       "      <td>...</td>\n",
       "      <td>...</td>\n",
       "      <td>...</td>\n",
       "      <td>...</td>\n",
       "      <td>...</td>\n",
       "      <td>...</td>\n",
       "      <td>...</td>\n",
       "      <td>...</td>\n",
       "      <td>...</td>\n",
       "    </tr>\n",
       "    <tr>\n",
       "      <th>2095</th>\n",
       "      <td>551267</td>\n",
       "      <td>Eva</td>\n",
       "      <td>09207934135</td>\n",
       "      <td>150</td>\n",
       "      <td>Seattl</td>\n",
       "      <td>04/03/2023</td>\n",
       "      <td>Electronics</td>\n",
       "      <td>three hundred</td>\n",
       "      <td>Cash</td>\n",
       "      <td>!!!Extra punctuation???</td>\n",
       "    </tr>\n",
       "    <tr>\n",
       "      <th>2096</th>\n",
       "      <td>765004</td>\n",
       "      <td>Grace</td>\n",
       "      <td>09203608516</td>\n",
       "      <td>-5</td>\n",
       "      <td>Los Angeles</td>\n",
       "      <td>03/02/2023</td>\n",
       "      <td>Sprts</td>\n",
       "      <td>1K</td>\n",
       "      <td>NaN</td>\n",
       "      <td>This is a   sample review.</td>\n",
       "    </tr>\n",
       "    <tr>\n",
       "      <th>2097</th>\n",
       "      <td>150839</td>\n",
       "      <td>Eva</td>\n",
       "      <td>09209824644</td>\n",
       "      <td>twenty</td>\n",
       "      <td>Chicago</td>\n",
       "      <td>03/12/2023</td>\n",
       "      <td>Toys</td>\n",
       "      <td>21.572884735974835</td>\n",
       "      <td>Debit Card</td>\n",
       "      <td>lots   of   spaces   here</td>\n",
       "    </tr>\n",
       "    <tr>\n",
       "      <th>2098</th>\n",
       "      <td>689611</td>\n",
       "      <td>Bob</td>\n",
       "      <td>09200210027</td>\n",
       "      <td>150</td>\n",
       "      <td>New York</td>\n",
       "      <td>23/05/2023</td>\n",
       "      <td>Home &amp; Kitchen</td>\n",
       "      <td>-50</td>\n",
       "      <td>CASH</td>\n",
       "      <td>Data cleaning is necessary...</td>\n",
       "    </tr>\n",
       "    <tr>\n",
       "      <th>2099</th>\n",
       "      <td>979856</td>\n",
       "      <td>Frank</td>\n",
       "      <td>09987589228</td>\n",
       "      <td>150</td>\n",
       "      <td>Maimi</td>\n",
       "      <td>2023-10-09</td>\n",
       "      <td>Books</td>\n",
       "      <td>NaN</td>\n",
       "      <td>Cash</td>\n",
       "      <td>Data cleaning is necessary...</td>\n",
       "    </tr>\n",
       "  </tbody>\n",
       "</table>\n",
       "<p>2100 rows × 10 columns</p>\n",
       "</div>"
      ],
      "text/plain": [
       "      transaction_id customer_name phone_number     age           city  \\\n",
       "0             718969         Grace  09178480427      80       New York   \n",
       "1             480570           Bob  09454470547      31            NaN   \n",
       "2             761860         Alice  09984217989      23          Maimi   \n",
       "3             414220         Henry  09983003209      54  San Francisco   \n",
       "4             130403         David  09178943535  twenty         Seattl   \n",
       "...              ...           ...          ...     ...            ...   \n",
       "2095          551267           Eva  09207934135     150         Seattl   \n",
       "2096          765004         Grace  09203608516      -5    Los Angeles   \n",
       "2097          150839           Eva  09209824644  twenty        Chicago   \n",
       "2098          689611           Bob  09200210027     150       New York   \n",
       "2099          979856         Frank  09987589228     150          Maimi   \n",
       "\n",
       "       transaction_date product_category              amount payment_method  \\\n",
       "0            29/05/2023   Home & Kitchen                 NaN         PayPal   \n",
       "1                   NaN      Electronics               10000     debit_card   \n",
       "2     December 20, 2023             Boks               10000           CASH   \n",
       "3        March 22, 2023        Groceries               10000         PayPal   \n",
       "4     February 21, 2023             Boks   266.0598752443908         PayPal   \n",
       "...                 ...              ...                 ...            ...   \n",
       "2095         04/03/2023      Electronics       three hundred           Cash   \n",
       "2096         03/02/2023            Sprts                  1K            NaN   \n",
       "2097         03/12/2023             Toys  21.572884735974835     Debit Card   \n",
       "2098         23/05/2023   Home & Kitchen                 -50           CASH   \n",
       "2099         2023-10-09            Books                 NaN           Cash   \n",
       "\n",
       "                              review  \n",
       "0            !!!Extra punctuation???  \n",
       "1      Data cleaning is necessary...  \n",
       "2       Messy,   text with   spaces!  \n",
       "3       This is a   sample review.    \n",
       "4       Messy,   text with   spaces!  \n",
       "...                              ...  \n",
       "2095         !!!Extra punctuation???  \n",
       "2096    This is a   sample review.    \n",
       "2097     lots   of   spaces   here    \n",
       "2098   Data cleaning is necessary...  \n",
       "2099   Data cleaning is necessary...  \n",
       "\n",
       "[2100 rows x 10 columns]"
      ]
     },
     "execution_count": 825,
     "metadata": {},
     "output_type": "execute_result"
    }
   ],
   "source": [
    "df"
   ]
  },
  {
   "cell_type": "code",
   "execution_count": 826,
   "id": "2971b3c7-7312-4a45-a3e2-1af6364d9cd5",
   "metadata": {},
   "outputs": [
    {
     "name": "stdout",
     "output_type": "stream",
     "text": [
      "Index([], dtype='int64')\n"
     ]
    }
   ],
   "source": [
    "#check if there are indices/ rows that has values longer than 11 to ensure there's no error in transforming the contact numbers\n",
    "invalid_index = df[df['phone_number'].apply(lambda x: len(x) != 11)].index\n",
    "print(invalid_index)"
   ]
  },
  {
   "cell_type": "markdown",
   "id": "4a157dda-1a1b-42ba-9bc1-eb1c84cc0686",
   "metadata": {},
   "source": [
    "<h4> For Age </h4>"
   ]
  },
  {
   "cell_type": "code",
   "execution_count": 827,
   "id": "3f3195f4-522a-4684-b625-ffdbcae0215f",
   "metadata": {},
   "outputs": [],
   "source": [
    "#convert the values to numeric and all the non-numeric will become NaN\n",
    "\n",
    "df['age'] = pd.to_numeric(df['age'], errors= 'coerce')"
   ]
  },
  {
   "cell_type": "code",
   "execution_count": 828,
   "id": "eed2be98-64e4-4077-adce-ac2e19cef726",
   "metadata": {},
   "outputs": [
    {
     "data": {
      "text/plain": [
       "0        80.0\n",
       "1        31.0\n",
       "2        23.0\n",
       "3        54.0\n",
       "4         NaN\n",
       "        ...  \n",
       "2095    150.0\n",
       "2096     -5.0\n",
       "2097      NaN\n",
       "2098    150.0\n",
       "2099    150.0\n",
       "Name: age, Length: 2100, dtype: float64"
      ]
     },
     "execution_count": 828,
     "metadata": {},
     "output_type": "execute_result"
    }
   ],
   "source": [
    "df['age']"
   ]
  },
  {
   "cell_type": "code",
   "execution_count": 829,
   "id": "3a350799-e503-4972-a762-f32bc2878ffb",
   "metadata": {},
   "outputs": [
    {
     "name": "stdout",
     "output_type": "stream",
     "text": [
      "361\n"
     ]
    }
   ],
   "source": [
    "#identify negative values\n",
    "negs = (df['age'] < 0).sum()\n",
    "print(negs)"
   ]
  },
  {
   "cell_type": "code",
   "execution_count": 830,
   "id": "4693b6ce-ea17-4030-a819-ef01a41385bf",
   "metadata": {},
   "outputs": [],
   "source": [
    "#replace negative values with NaN\n",
    "df['age'] = df['age'].apply(lambda x: x if x >= 0 else np.nan)"
   ]
  },
  {
   "cell_type": "code",
   "execution_count": 831,
   "id": "7ca5fa40-ccbb-4f3a-955d-eef5bb610414",
   "metadata": {},
   "outputs": [
    {
     "data": {
      "text/plain": [
       "Text(0.5, 1.0, 'Oulier Check')"
      ]
     },
     "execution_count": 831,
     "metadata": {},
     "output_type": "execute_result"
    },
    {
     "data": {
      "image/png": "[encoded data removed]",
      "text/plain": [
       "<Figure size 800x500 with 1 Axes>"
      ]
     },
     "metadata": {},
     "output_type": "display_data"
    }
   ],
   "source": [
    "#check for outliers\n",
    "plt.figure(figsize = (8,5))\n",
    "sns.histplot(df['age'], bins=30, kde = True)\n",
    "plt.title(\"Oulier Check\")"
   ]
  },
  {
   "cell_type": "code",
   "execution_count": 832,
   "id": "1b6d5438-c920-4329-bd49-9864d76c7ede",
   "metadata": {},
   "outputs": [],
   "source": [
    "#the outliers are unreasonable thus we can decide to replace it with NaN\n",
    "df['age'] = df['age'].apply(lambda x: x if x <100 else np.nan)"
   ]
  },
  {
   "cell_type": "code",
   "execution_count": 833,
   "id": "a5244ead-9866-4887-9031-b96e7a953c87",
   "metadata": {},
   "outputs": [
    {
     "data": {
      "image/png": "[encoded data removed]",
      "text/plain": [
       "<Figure size 800x500 with 1 Axes>"
      ]
     },
     "metadata": {},
     "output_type": "display_data"
    }
   ],
   "source": [
    "#check the distribution\n",
    "plt.figure(figsize = (8,5))\n",
    "sns.histplot(df['age'], bins = 30, kde = True)\n",
    "plt.title('Distribution check')\n",
    "plt.show()"
   ]
  },
  {
   "cell_type": "markdown",
   "id": "7ed011cd-4cdd-4553-8993-972e14f966da",
   "metadata": {},
   "source": [
    "<h5> Handling NaN Values </h5>"
   ]
  },
  {
   "cell_type": "code",
   "execution_count": 834,
   "id": "5ea058a5-d144-45be-ba8e-b8075a657b81",
   "metadata": {},
   "outputs": [
    {
     "name": "stdout",
     "output_type": "stream",
     "text": [
      "84.95238095238096\n"
     ]
    }
   ],
   "source": [
    "#first we need to understand the percentage of NaN values to the age data\n",
    "nan_sum = df['age'].isnull().sum()\n",
    "age_row_count = len(df['age'])\n",
    "\n",
    "nan_age_percentage = (nan_sum / age_row_count)*100\n",
    "print(nan_age_percentage)"
   ]
  },
  {
   "cell_type": "code",
   "execution_count": 835,
   "id": "e6893468-3cd3-4b76-92fd-42328390d184",
   "metadata": {},
   "outputs": [],
   "source": [
    "#if the percent ratio is lower than 10-15% get the mean or median\n",
    "#if the percent ratio is higher than 10-15% we have to use machine learning algorithm if the result is not ideal then the last ersort is to drop the column\n",
    "\n",
    "\n",
    "# Using KNN imputation technique\n",
    "from sklearn.impute import KNNImputer\n",
    "\n",
    "imputer = KNNImputer(n_neighbors=10)\n",
    "df[['age']] = imputer.fit_transform(df[['age']])"
   ]
  },
  {
   "cell_type": "code",
   "execution_count": 836,
   "id": "a3f452b6-11d9-4735-a8af-2f6dc09219ec",
   "metadata": {},
   "outputs": [],
   "source": [
    "df['age'] = df['age'].round(1)"
   ]
  },
  {
   "cell_type": "code",
   "execution_count": 837,
   "id": "07c61e8a-96ab-4c9a-b8aa-e8408501c032",
   "metadata": {},
   "outputs": [
    {
     "data": {
      "text/plain": [
       "<Axes: xlabel='age', ylabel='Count'>"
      ]
     },
     "execution_count": 837,
     "metadata": {},
     "output_type": "execute_result"
    },
    {
     "data": {
      "image/png": "[encoded data removed]",
      "text/plain": [
       "<Figure size 640x480 with 1 Axes>"
      ]
     },
     "metadata": {},
     "output_type": "display_data"
    }
   ],
   "source": [
    "sns.histplot(df['age'], bins=30, kde=True)"
   ]
  },
  {
   "cell_type": "code",
   "execution_count": 838,
   "id": "1d0bf914-42f4-4438-a6c7-e622a7b2ae6d",
   "metadata": {},
   "outputs": [],
   "source": [
    "#The result is not ideal so the last resort is to drop the age column\n",
    "#df.drop(columns = ['age'])"
   ]
  },
  {
   "cell_type": "markdown",
   "id": "4bdd089e-5fc2-4232-bd15-e42ed06d1244",
   "metadata": {},
   "source": [
    "<h3> For City </h3>"
   ]
  },
  {
   "cell_type": "code",
   "execution_count": 839,
   "id": "bb612b21-0fe9-43ae-ab28-dd295e30680f",
   "metadata": {},
   "outputs": [],
   "source": [
    "#handle NaN values first\n",
    "df['city'] = df['city'].fillna('')\n"
   ]
  },
  {
   "cell_type": "markdown",
   "id": "02b2023b-ca09-4d6b-8b56-2a96d4989b19",
   "metadata": {},
   "source": [
    "<h5> Dealing with incorrect spelling </h5>"
   ]
  },
  {
   "cell_type": "code",
   "execution_count": 840,
   "id": "f7876323-39e3-47bd-832c-1c822fd436b8",
   "metadata": {},
   "outputs": [
    {
     "name": "stdout",
     "output_type": "stream",
     "text": [
      "Requirement already satisfied: textblob in d:\\anaconda3\\lib\\site-packages (0.19.0)\n",
      "Requirement already satisfied: nltk>=3.9 in d:\\anaconda3\\lib\\site-packages (from textblob) (3.9.1)\n",
      "Requirement already satisfied: click in d:\\anaconda3\\lib\\site-packages (from nltk>=3.9->textblob) (8.1.7)\n",
      "Requirement already satisfied: joblib in d:\\anaconda3\\lib\\site-packages (from nltk>=3.9->textblob) (1.4.2)\n",
      "Requirement already satisfied: regex>=2021.8.3 in d:\\anaconda3\\lib\\site-packages (from nltk>=3.9->textblob) (2023.10.3)\n",
      "Requirement already satisfied: tqdm in d:\\anaconda3\\lib\\site-packages (from nltk>=3.9->textblob) (4.66.4)\n",
      "Requirement already satisfied: colorama in d:\\anaconda3\\lib\\site-packages (from click->nltk>=3.9->textblob) (0.4.6)\n",
      "Note: you may need to restart the kernel to use updated packages.\n"
     ]
    }
   ],
   "source": [
    "#for minor incorrect spelling we can use TextBlob\n",
    "%pip install textblob"
   ]
  },
  {
   "cell_type": "raw",
   "id": "10d0a4f3-bcd1-4db5-a7a6-de7d41570e01",
   "metadata": {},
   "source": [
    "from textblob import TextBlob\n",
    "def correct_spelling(city):\n",
    "    return str(TextBlob(city).correct())\n",
    "\n",
    "#apply the function\n",
    "\n",
    "df['city'] = df['city'].apply(correct_spelling)"
   ]
  },
  {
   "cell_type": "code",
   "execution_count": 841,
   "id": "e6d78f0e-8616-4ffb-a124-6b16b8eb344e",
   "metadata": {},
   "outputs": [
    {
     "name": "stdout",
     "output_type": "stream",
     "text": [
      "Requirement already satisfied: fuzzywuzzy in d:\\anaconda3\\lib\\site-packages (0.18.0)\n",
      "Note: you may need to restart the kernel to use updated packages.\n"
     ]
    }
   ],
   "source": [
    "#For more complex incorrect spelling we can use Fuzzywuzzy\n",
    "%pip install fuzzywuzzy"
   ]
  },
  {
   "cell_type": "code",
   "execution_count": 842,
   "id": "f7d97532-e2e1-4f73-8fed-ea3d7b8df5b8",
   "metadata": {},
   "outputs": [
    {
     "data": {
      "text/plain": [
       "array(['New York', '', 'Maimi', 'San Francisco', 'Seattl', 'Los Angeles',\n",
       "       'Huston', 'Seattle', 'Chcago', 'Chicago', 'Nw York', 'Los Angeels',\n",
       "       'Miami', 'San Fransisco', 'Houston'], dtype=object)"
      ]
     },
     "execution_count": 842,
     "metadata": {},
     "output_type": "execute_result"
    }
   ],
   "source": [
    "#to know the unique values\n",
    "df['city'].unique()"
   ]
  },
  {
   "cell_type": "code",
   "execution_count": 843,
   "id": "f2f5848d-a807-4b36-bbb5-fb82a1d4974f",
   "metadata": {
    "scrolled": true
   },
   "outputs": [
    {
     "name": "stderr",
     "output_type": "stream",
     "text": [
      "WARNING:root:Applied processor reduces input query to empty string, all comparisons will have score 0. [Query: '']\n",
      "WARNING:root:Applied processor reduces input query to empty string, all comparisons will have score 0. [Query: '']\n",
      "WARNING:root:Applied processor reduces input query to empty string, all comparisons will have score 0. [Query: '']\n",
      "WARNING:root:Applied processor reduces input query to empty string, all comparisons will have score 0. [Query: '']\n",
      "WARNING:root:Applied processor reduces input query to empty string, all comparisons will have score 0. [Query: '']\n",
      "WARNING:root:Applied processor reduces input query to empty string, all comparisons will have score 0. [Query: '']\n",
      "WARNING:root:Applied processor reduces input query to empty string, all comparisons will have score 0. [Query: '']\n",
      "WARNING:root:Applied processor reduces input query to empty string, all comparisons will have score 0. [Query: '']\n",
      "WARNING:root:Applied processor reduces input query to empty string, all comparisons will have score 0. [Query: '']\n",
      "WARNING:root:Applied processor reduces input query to empty string, all comparisons will have score 0. [Query: '']\n",
      "WARNING:root:Applied processor reduces input query to empty string, all comparisons will have score 0. [Query: '']\n",
      "WARNING:root:Applied processor reduces input query to empty string, all comparisons will have score 0. [Query: '']\n",
      "WARNING:root:Applied processor reduces input query to empty string, all comparisons will have score 0. [Query: '']\n",
      "WARNING:root:Applied processor reduces input query to empty string, all comparisons will have score 0. [Query: '']\n",
      "WARNING:root:Applied processor reduces input query to empty string, all comparisons will have score 0. [Query: '']\n",
      "WARNING:root:Applied processor reduces input query to empty string, all comparisons will have score 0. [Query: '']\n",
      "WARNING:root:Applied processor reduces input query to empty string, all comparisons will have score 0. [Query: '']\n",
      "WARNING:root:Applied processor reduces input query to empty string, all comparisons will have score 0. [Query: '']\n",
      "WARNING:root:Applied processor reduces input query to empty string, all comparisons will have score 0. [Query: '']\n",
      "WARNING:root:Applied processor reduces input query to empty string, all comparisons will have score 0. [Query: '']\n",
      "WARNING:root:Applied processor reduces input query to empty string, all comparisons will have score 0. [Query: '']\n",
      "WARNING:root:Applied processor reduces input query to empty string, all comparisons will have score 0. [Query: '']\n",
      "WARNING:root:Applied processor reduces input query to empty string, all comparisons will have score 0. [Query: '']\n",
      "WARNING:root:Applied processor reduces input query to empty string, all comparisons will have score 0. [Query: '']\n",
      "WARNING:root:Applied processor reduces input query to empty string, all comparisons will have score 0. [Query: '']\n",
      "WARNING:root:Applied processor reduces input query to empty string, all comparisons will have score 0. [Query: '']\n",
      "WARNING:root:Applied processor reduces input query to empty string, all comparisons will have score 0. [Query: '']\n",
      "WARNING:root:Applied processor reduces input query to empty string, all comparisons will have score 0. [Query: '']\n",
      "WARNING:root:Applied processor reduces input query to empty string, all comparisons will have score 0. [Query: '']\n",
      "WARNING:root:Applied processor reduces input query to empty string, all comparisons will have score 0. [Query: '']\n",
      "WARNING:root:Applied processor reduces input query to empty string, all comparisons will have score 0. [Query: '']\n",
      "WARNING:root:Applied processor reduces input query to empty string, all comparisons will have score 0. [Query: '']\n",
      "WARNING:root:Applied processor reduces input query to empty string, all comparisons will have score 0. [Query: '']\n",
      "WARNING:root:Applied processor reduces input query to empty string, all comparisons will have score 0. [Query: '']\n",
      "WARNING:root:Applied processor reduces input query to empty string, all comparisons will have score 0. [Query: '']\n",
      "WARNING:root:Applied processor reduces input query to empty string, all comparisons will have score 0. [Query: '']\n",
      "WARNING:root:Applied processor reduces input query to empty string, all comparisons will have score 0. [Query: '']\n",
      "WARNING:root:Applied processor reduces input query to empty string, all comparisons will have score 0. [Query: '']\n",
      "WARNING:root:Applied processor reduces input query to empty string, all comparisons will have score 0. [Query: '']\n",
      "WARNING:root:Applied processor reduces input query to empty string, all comparisons will have score 0. [Query: '']\n",
      "WARNING:root:Applied processor reduces input query to empty string, all comparisons will have score 0. [Query: '']\n",
      "WARNING:root:Applied processor reduces input query to empty string, all comparisons will have score 0. [Query: '']\n",
      "WARNING:root:Applied processor reduces input query to empty string, all comparisons will have score 0. [Query: '']\n",
      "WARNING:root:Applied processor reduces input query to empty string, all comparisons will have score 0. [Query: '']\n",
      "WARNING:root:Applied processor reduces input query to empty string, all comparisons will have score 0. [Query: '']\n",
      "WARNING:root:Applied processor reduces input query to empty string, all comparisons will have score 0. [Query: '']\n",
      "WARNING:root:Applied processor reduces input query to empty string, all comparisons will have score 0. [Query: '']\n",
      "WARNING:root:Applied processor reduces input query to empty string, all comparisons will have score 0. [Query: '']\n",
      "WARNING:root:Applied processor reduces input query to empty string, all comparisons will have score 0. [Query: '']\n",
      "WARNING:root:Applied processor reduces input query to empty string, all comparisons will have score 0. [Query: '']\n",
      "WARNING:root:Applied processor reduces input query to empty string, all comparisons will have score 0. [Query: '']\n",
      "WARNING:root:Applied processor reduces input query to empty string, all comparisons will have score 0. [Query: '']\n",
      "WARNING:root:Applied processor reduces input query to empty string, all comparisons will have score 0. [Query: '']\n",
      "WARNING:root:Applied processor reduces input query to empty string, all comparisons will have score 0. [Query: '']\n",
      "WARNING:root:Applied processor reduces input query to empty string, all comparisons will have score 0. [Query: '']\n",
      "WARNING:root:Applied processor reduces input query to empty string, all comparisons will have score 0. [Query: '']\n",
      "WARNING:root:Applied processor reduces input query to empty string, all comparisons will have score 0. [Query: '']\n",
      "WARNING:root:Applied processor reduces input query to empty string, all comparisons will have score 0. [Query: '']\n",
      "WARNING:root:Applied processor reduces input query to empty string, all comparisons will have score 0. [Query: '']\n",
      "WARNING:root:Applied processor reduces input query to empty string, all comparisons will have score 0. [Query: '']\n",
      "WARNING:root:Applied processor reduces input query to empty string, all comparisons will have score 0. [Query: '']\n",
      "WARNING:root:Applied processor reduces input query to empty string, all comparisons will have score 0. [Query: '']\n",
      "WARNING:root:Applied processor reduces input query to empty string, all comparisons will have score 0. [Query: '']\n",
      "WARNING:root:Applied processor reduces input query to empty string, all comparisons will have score 0. [Query: '']\n",
      "WARNING:root:Applied processor reduces input query to empty string, all comparisons will have score 0. [Query: '']\n",
      "WARNING:root:Applied processor reduces input query to empty string, all comparisons will have score 0. [Query: '']\n",
      "WARNING:root:Applied processor reduces input query to empty string, all comparisons will have score 0. [Query: '']\n",
      "WARNING:root:Applied processor reduces input query to empty string, all comparisons will have score 0. [Query: '']\n",
      "WARNING:root:Applied processor reduces input query to empty string, all comparisons will have score 0. [Query: '']\n",
      "WARNING:root:Applied processor reduces input query to empty string, all comparisons will have score 0. [Query: '']\n",
      "WARNING:root:Applied processor reduces input query to empty string, all comparisons will have score 0. [Query: '']\n",
      "WARNING:root:Applied processor reduces input query to empty string, all comparisons will have score 0. [Query: '']\n",
      "WARNING:root:Applied processor reduces input query to empty string, all comparisons will have score 0. [Query: '']\n",
      "WARNING:root:Applied processor reduces input query to empty string, all comparisons will have score 0. [Query: '']\n",
      "WARNING:root:Applied processor reduces input query to empty string, all comparisons will have score 0. [Query: '']\n",
      "WARNING:root:Applied processor reduces input query to empty string, all comparisons will have score 0. [Query: '']\n",
      "WARNING:root:Applied processor reduces input query to empty string, all comparisons will have score 0. [Query: '']\n",
      "WARNING:root:Applied processor reduces input query to empty string, all comparisons will have score 0. [Query: '']\n",
      "WARNING:root:Applied processor reduces input query to empty string, all comparisons will have score 0. [Query: '']\n",
      "WARNING:root:Applied processor reduces input query to empty string, all comparisons will have score 0. [Query: '']\n",
      "WARNING:root:Applied processor reduces input query to empty string, all comparisons will have score 0. [Query: '']\n",
      "WARNING:root:Applied processor reduces input query to empty string, all comparisons will have score 0. [Query: '']\n",
      "WARNING:root:Applied processor reduces input query to empty string, all comparisons will have score 0. [Query: '']\n",
      "WARNING:root:Applied processor reduces input query to empty string, all comparisons will have score 0. [Query: '']\n",
      "WARNING:root:Applied processor reduces input query to empty string, all comparisons will have score 0. [Query: '']\n",
      "WARNING:root:Applied processor reduces input query to empty string, all comparisons will have score 0. [Query: '']\n",
      "WARNING:root:Applied processor reduces input query to empty string, all comparisons will have score 0. [Query: '']\n",
      "WARNING:root:Applied processor reduces input query to empty string, all comparisons will have score 0. [Query: '']\n",
      "WARNING:root:Applied processor reduces input query to empty string, all comparisons will have score 0. [Query: '']\n",
      "WARNING:root:Applied processor reduces input query to empty string, all comparisons will have score 0. [Query: '']\n",
      "WARNING:root:Applied processor reduces input query to empty string, all comparisons will have score 0. [Query: '']\n",
      "WARNING:root:Applied processor reduces input query to empty string, all comparisons will have score 0. [Query: '']\n",
      "WARNING:root:Applied processor reduces input query to empty string, all comparisons will have score 0. [Query: '']\n",
      "WARNING:root:Applied processor reduces input query to empty string, all comparisons will have score 0. [Query: '']\n",
      "WARNING:root:Applied processor reduces input query to empty string, all comparisons will have score 0. [Query: '']\n",
      "WARNING:root:Applied processor reduces input query to empty string, all comparisons will have score 0. [Query: '']\n",
      "WARNING:root:Applied processor reduces input query to empty string, all comparisons will have score 0. [Query: '']\n",
      "WARNING:root:Applied processor reduces input query to empty string, all comparisons will have score 0. [Query: '']\n",
      "WARNING:root:Applied processor reduces input query to empty string, all comparisons will have score 0. [Query: '']\n",
      "WARNING:root:Applied processor reduces input query to empty string, all comparisons will have score 0. [Query: '']\n",
      "WARNING:root:Applied processor reduces input query to empty string, all comparisons will have score 0. [Query: '']\n",
      "WARNING:root:Applied processor reduces input query to empty string, all comparisons will have score 0. [Query: '']\n",
      "WARNING:root:Applied processor reduces input query to empty string, all comparisons will have score 0. [Query: '']\n",
      "WARNING:root:Applied processor reduces input query to empty string, all comparisons will have score 0. [Query: '']\n",
      "WARNING:root:Applied processor reduces input query to empty string, all comparisons will have score 0. [Query: '']\n",
      "WARNING:root:Applied processor reduces input query to empty string, all comparisons will have score 0. [Query: '']\n",
      "WARNING:root:Applied processor reduces input query to empty string, all comparisons will have score 0. [Query: '']\n",
      "WARNING:root:Applied processor reduces input query to empty string, all comparisons will have score 0. [Query: '']\n",
      "WARNING:root:Applied processor reduces input query to empty string, all comparisons will have score 0. [Query: '']\n",
      "WARNING:root:Applied processor reduces input query to empty string, all comparisons will have score 0. [Query: '']\n",
      "WARNING:root:Applied processor reduces input query to empty string, all comparisons will have score 0. [Query: '']\n",
      "WARNING:root:Applied processor reduces input query to empty string, all comparisons will have score 0. [Query: '']\n",
      "WARNING:root:Applied processor reduces input query to empty string, all comparisons will have score 0. [Query: '']\n",
      "WARNING:root:Applied processor reduces input query to empty string, all comparisons will have score 0. [Query: '']\n",
      "WARNING:root:Applied processor reduces input query to empty string, all comparisons will have score 0. [Query: '']\n",
      "WARNING:root:Applied processor reduces input query to empty string, all comparisons will have score 0. [Query: '']\n",
      "WARNING:root:Applied processor reduces input query to empty string, all comparisons will have score 0. [Query: '']\n",
      "WARNING:root:Applied processor reduces input query to empty string, all comparisons will have score 0. [Query: '']\n",
      "WARNING:root:Applied processor reduces input query to empty string, all comparisons will have score 0. [Query: '']\n",
      "WARNING:root:Applied processor reduces input query to empty string, all comparisons will have score 0. [Query: '']\n",
      "WARNING:root:Applied processor reduces input query to empty string, all comparisons will have score 0. [Query: '']\n",
      "WARNING:root:Applied processor reduces input query to empty string, all comparisons will have score 0. [Query: '']\n",
      "WARNING:root:Applied processor reduces input query to empty string, all comparisons will have score 0. [Query: '']\n",
      "WARNING:root:Applied processor reduces input query to empty string, all comparisons will have score 0. [Query: '']\n",
      "WARNING:root:Applied processor reduces input query to empty string, all comparisons will have score 0. [Query: '']\n",
      "WARNING:root:Applied processor reduces input query to empty string, all comparisons will have score 0. [Query: '']\n",
      "WARNING:root:Applied processor reduces input query to empty string, all comparisons will have score 0. [Query: '']\n",
      "WARNING:root:Applied processor reduces input query to empty string, all comparisons will have score 0. [Query: '']\n",
      "WARNING:root:Applied processor reduces input query to empty string, all comparisons will have score 0. [Query: '']\n",
      "WARNING:root:Applied processor reduces input query to empty string, all comparisons will have score 0. [Query: '']\n",
      "WARNING:root:Applied processor reduces input query to empty string, all comparisons will have score 0. [Query: '']\n",
      "WARNING:root:Applied processor reduces input query to empty string, all comparisons will have score 0. [Query: '']\n",
      "WARNING:root:Applied processor reduces input query to empty string, all comparisons will have score 0. [Query: '']\n",
      "WARNING:root:Applied processor reduces input query to empty string, all comparisons will have score 0. [Query: '']\n",
      "WARNING:root:Applied processor reduces input query to empty string, all comparisons will have score 0. [Query: '']\n",
      "WARNING:root:Applied processor reduces input query to empty string, all comparisons will have score 0. [Query: '']\n",
      "WARNING:root:Applied processor reduces input query to empty string, all comparisons will have score 0. [Query: '']\n",
      "WARNING:root:Applied processor reduces input query to empty string, all comparisons will have score 0. [Query: '']\n"
     ]
    }
   ],
   "source": [
    "from fuzzywuzzy import process\n",
    "\n",
    "valid_cities = ['New York', 'Miami', 'San Francisco', 'Seattle', 'Los Angeles', 'Boston',\n",
    "                'Chicago', 'Houston']\n",
    "def correct_city_name(city, valid_cities):\n",
    "    closest_match, score = process.extractOne(city, valid_cities)\n",
    "    return closest_match if score > 80 else city\n",
    "\n",
    "#apply the function\n",
    "df['city'] = df['city'].apply(lambda x: correct_city_name(x, valid_cities))"
   ]
  },
  {
   "cell_type": "code",
   "execution_count": 844,
   "id": "7599b8f8-a482-4f74-9386-428c933fc656",
   "metadata": {},
   "outputs": [],
   "source": [
    "#Only Miami is inconsitent so I choose to replace all incoorect Miami\n",
    "df['city'] = df['city'].str.replace('Maimi', 'Miami')"
   ]
  },
  {
   "cell_type": "code",
   "execution_count": 845,
   "id": "46320886-aecd-4536-b198-72b803078214",
   "metadata": {},
   "outputs": [
    {
     "data": {
      "text/plain": [
       "array(['New York', '', 'Miami', 'San Francisco', 'Seattle', 'Los Angeles',\n",
       "       'Houston', 'Chicago'], dtype=object)"
      ]
     },
     "execution_count": 845,
     "metadata": {},
     "output_type": "execute_result"
    }
   ],
   "source": [
    "df['city'].unique()"
   ]
  },
  {
   "cell_type": "code",
   "execution_count": 846,
   "id": "8208a589-7a4d-4b83-a7a5-1f8196c71f67",
   "metadata": {},
   "outputs": [
    {
     "data": {
      "text/html": [
       "<div>\n",
       "<style scoped>\n",
       "    .dataframe tbody tr th:only-of-type {\n",
       "        vertical-align: middle;\n",
       "    }\n",
       "\n",
       "    .dataframe tbody tr th {\n",
       "        vertical-align: top;\n",
       "    }\n",
       "\n",
       "    .dataframe thead th {\n",
       "        text-align: right;\n",
       "    }\n",
       "</style>\n",
       "<table border=\"1\" class=\"dataframe\">\n",
       "  <thead>\n",
       "    <tr style=\"text-align: right;\">\n",
       "      <th></th>\n",
       "      <th>transaction_id</th>\n",
       "      <th>customer_name</th>\n",
       "      <th>phone_number</th>\n",
       "      <th>age</th>\n",
       "      <th>city</th>\n",
       "      <th>transaction_date</th>\n",
       "      <th>product_category</th>\n",
       "      <th>amount</th>\n",
       "      <th>payment_method</th>\n",
       "      <th>review</th>\n",
       "    </tr>\n",
       "  </thead>\n",
       "  <tbody>\n",
       "    <tr>\n",
       "      <th>0</th>\n",
       "      <td>718969</td>\n",
       "      <td>Grace</td>\n",
       "      <td>09178480427</td>\n",
       "      <td>80.0</td>\n",
       "      <td>New York</td>\n",
       "      <td>29/05/2023</td>\n",
       "      <td>Home &amp; Kitchen</td>\n",
       "      <td>NaN</td>\n",
       "      <td>PayPal</td>\n",
       "      <td>!!!Extra punctuation???</td>\n",
       "    </tr>\n",
       "    <tr>\n",
       "      <th>1</th>\n",
       "      <td>480570</td>\n",
       "      <td>Bob</td>\n",
       "      <td>09454470547</td>\n",
       "      <td>31.0</td>\n",
       "      <td></td>\n",
       "      <td>NaN</td>\n",
       "      <td>Electronics</td>\n",
       "      <td>10000</td>\n",
       "      <td>debit_card</td>\n",
       "      <td>Data cleaning is necessary...</td>\n",
       "    </tr>\n",
       "    <tr>\n",
       "      <th>2</th>\n",
       "      <td>761860</td>\n",
       "      <td>Alice</td>\n",
       "      <td>09984217989</td>\n",
       "      <td>23.0</td>\n",
       "      <td>Miami</td>\n",
       "      <td>December 20, 2023</td>\n",
       "      <td>Boks</td>\n",
       "      <td>10000</td>\n",
       "      <td>CASH</td>\n",
       "      <td>Messy,   text with   spaces!</td>\n",
       "    </tr>\n",
       "    <tr>\n",
       "      <th>3</th>\n",
       "      <td>414220</td>\n",
       "      <td>Henry</td>\n",
       "      <td>09983003209</td>\n",
       "      <td>54.0</td>\n",
       "      <td>San Francisco</td>\n",
       "      <td>March 22, 2023</td>\n",
       "      <td>Groceries</td>\n",
       "      <td>10000</td>\n",
       "      <td>PayPal</td>\n",
       "      <td>This is a   sample review.</td>\n",
       "    </tr>\n",
       "    <tr>\n",
       "      <th>4</th>\n",
       "      <td>130403</td>\n",
       "      <td>David</td>\n",
       "      <td>09178943535</td>\n",
       "      <td>55.5</td>\n",
       "      <td>Seattle</td>\n",
       "      <td>February 21, 2023</td>\n",
       "      <td>Boks</td>\n",
       "      <td>266.0598752443908</td>\n",
       "      <td>PayPal</td>\n",
       "      <td>Messy,   text with   spaces!</td>\n",
       "    </tr>\n",
       "    <tr>\n",
       "      <th>...</th>\n",
       "      <td>...</td>\n",
       "      <td>...</td>\n",
       "      <td>...</td>\n",
       "      <td>...</td>\n",
       "      <td>...</td>\n",
       "      <td>...</td>\n",
       "      <td>...</td>\n",
       "      <td>...</td>\n",
       "      <td>...</td>\n",
       "      <td>...</td>\n",
       "    </tr>\n",
       "    <tr>\n",
       "      <th>2095</th>\n",
       "      <td>551267</td>\n",
       "      <td>Eva</td>\n",
       "      <td>09207934135</td>\n",
       "      <td>55.5</td>\n",
       "      <td>Seattle</td>\n",
       "      <td>04/03/2023</td>\n",
       "      <td>Electronics</td>\n",
       "      <td>three hundred</td>\n",
       "      <td>Cash</td>\n",
       "      <td>!!!Extra punctuation???</td>\n",
       "    </tr>\n",
       "    <tr>\n",
       "      <th>2096</th>\n",
       "      <td>765004</td>\n",
       "      <td>Grace</td>\n",
       "      <td>09203608516</td>\n",
       "      <td>55.5</td>\n",
       "      <td>Los Angeles</td>\n",
       "      <td>03/02/2023</td>\n",
       "      <td>Sprts</td>\n",
       "      <td>1K</td>\n",
       "      <td>NaN</td>\n",
       "      <td>This is a   sample review.</td>\n",
       "    </tr>\n",
       "    <tr>\n",
       "      <th>2097</th>\n",
       "      <td>150839</td>\n",
       "      <td>Eva</td>\n",
       "      <td>09209824644</td>\n",
       "      <td>55.5</td>\n",
       "      <td>Chicago</td>\n",
       "      <td>03/12/2023</td>\n",
       "      <td>Toys</td>\n",
       "      <td>21.572884735974835</td>\n",
       "      <td>Debit Card</td>\n",
       "      <td>lots   of   spaces   here</td>\n",
       "    </tr>\n",
       "    <tr>\n",
       "      <th>2098</th>\n",
       "      <td>689611</td>\n",
       "      <td>Bob</td>\n",
       "      <td>09200210027</td>\n",
       "      <td>55.5</td>\n",
       "      <td>New York</td>\n",
       "      <td>23/05/2023</td>\n",
       "      <td>Home &amp; Kitchen</td>\n",
       "      <td>-50</td>\n",
       "      <td>CASH</td>\n",
       "      <td>Data cleaning is necessary...</td>\n",
       "    </tr>\n",
       "    <tr>\n",
       "      <th>2099</th>\n",
       "      <td>979856</td>\n",
       "      <td>Frank</td>\n",
       "      <td>09987589228</td>\n",
       "      <td>55.5</td>\n",
       "      <td>Miami</td>\n",
       "      <td>2023-10-09</td>\n",
       "      <td>Books</td>\n",
       "      <td>NaN</td>\n",
       "      <td>Cash</td>\n",
       "      <td>Data cleaning is necessary...</td>\n",
       "    </tr>\n",
       "  </tbody>\n",
       "</table>\n",
       "<p>2100 rows × 10 columns</p>\n",
       "</div>"
      ],
      "text/plain": [
       "      transaction_id customer_name phone_number   age           city  \\\n",
       "0             718969         Grace  09178480427  80.0       New York   \n",
       "1             480570           Bob  09454470547  31.0                  \n",
       "2             761860         Alice  09984217989  23.0          Miami   \n",
       "3             414220         Henry  09983003209  54.0  San Francisco   \n",
       "4             130403         David  09178943535  55.5        Seattle   \n",
       "...              ...           ...          ...   ...            ...   \n",
       "2095          551267           Eva  09207934135  55.5        Seattle   \n",
       "2096          765004         Grace  09203608516  55.5    Los Angeles   \n",
       "2097          150839           Eva  09209824644  55.5        Chicago   \n",
       "2098          689611           Bob  09200210027  55.5       New York   \n",
       "2099          979856         Frank  09987589228  55.5          Miami   \n",
       "\n",
       "       transaction_date product_category              amount payment_method  \\\n",
       "0            29/05/2023   Home & Kitchen                 NaN         PayPal   \n",
       "1                   NaN      Electronics               10000     debit_card   \n",
       "2     December 20, 2023             Boks               10000           CASH   \n",
       "3        March 22, 2023        Groceries               10000         PayPal   \n",
       "4     February 21, 2023             Boks   266.0598752443908         PayPal   \n",
       "...                 ...              ...                 ...            ...   \n",
       "2095         04/03/2023      Electronics       three hundred           Cash   \n",
       "2096         03/02/2023            Sprts                  1K            NaN   \n",
       "2097         03/12/2023             Toys  21.572884735974835     Debit Card   \n",
       "2098         23/05/2023   Home & Kitchen                 -50           CASH   \n",
       "2099         2023-10-09            Books                 NaN           Cash   \n",
       "\n",
       "                              review  \n",
       "0            !!!Extra punctuation???  \n",
       "1      Data cleaning is necessary...  \n",
       "2       Messy,   text with   spaces!  \n",
       "3       This is a   sample review.    \n",
       "4       Messy,   text with   spaces!  \n",
       "...                              ...  \n",
       "2095         !!!Extra punctuation???  \n",
       "2096    This is a   sample review.    \n",
       "2097     lots   of   spaces   here    \n",
       "2098   Data cleaning is necessary...  \n",
       "2099   Data cleaning is necessary...  \n",
       "\n",
       "[2100 rows x 10 columns]"
      ]
     },
     "execution_count": 846,
     "metadata": {},
     "output_type": "execute_result"
    }
   ],
   "source": [
    "#for the city with no values we can choose to retain it or replace it with 'Unknown'\n",
    "df"
   ]
  },
  {
   "cell_type": "markdown",
   "id": "168a6c50-6057-45db-982c-1c2ea454834c",
   "metadata": {},
   "source": [
    "<h3> For Transaction Date </h3>"
   ]
  },
  {
   "cell_type": "code",
   "execution_count": 847,
   "id": "fa467daf-fdfd-49a1-8a1a-6e7e6ad4a2c5",
   "metadata": {},
   "outputs": [],
   "source": [
    "from dateutil.parser import parse\n",
    "\n",
    "df['transaction_date'] = df['transaction_date'].apply(lambda x: parse(str(x)).strftime('%m,%d,%Y') if pd.notnull(x) else x) "
   ]
  },
  {
   "cell_type": "code",
   "execution_count": 848,
   "id": "39c393ae-51e9-4271-a0fa-dc8c3d6c6c58",
   "metadata": {},
   "outputs": [
    {
     "data": {
      "text/html": [
       "<div>\n",
       "<style scoped>\n",
       "    .dataframe tbody tr th:only-of-type {\n",
       "        vertical-align: middle;\n",
       "    }\n",
       "\n",
       "    .dataframe tbody tr th {\n",
       "        vertical-align: top;\n",
       "    }\n",
       "\n",
       "    .dataframe thead th {\n",
       "        text-align: right;\n",
       "    }\n",
       "</style>\n",
       "<table border=\"1\" class=\"dataframe\">\n",
       "  <thead>\n",
       "    <tr style=\"text-align: right;\">\n",
       "      <th></th>\n",
       "      <th>transaction_id</th>\n",
       "      <th>customer_name</th>\n",
       "      <th>phone_number</th>\n",
       "      <th>age</th>\n",
       "      <th>city</th>\n",
       "      <th>transaction_date</th>\n",
       "      <th>product_category</th>\n",
       "      <th>amount</th>\n",
       "      <th>payment_method</th>\n",
       "      <th>review</th>\n",
       "    </tr>\n",
       "  </thead>\n",
       "  <tbody>\n",
       "    <tr>\n",
       "      <th>0</th>\n",
       "      <td>718969</td>\n",
       "      <td>Grace</td>\n",
       "      <td>09178480427</td>\n",
       "      <td>80.0</td>\n",
       "      <td>New York</td>\n",
       "      <td>05,29,2023</td>\n",
       "      <td>Home &amp; Kitchen</td>\n",
       "      <td>NaN</td>\n",
       "      <td>PayPal</td>\n",
       "      <td>!!!Extra punctuation???</td>\n",
       "    </tr>\n",
       "    <tr>\n",
       "      <th>1</th>\n",
       "      <td>480570</td>\n",
       "      <td>Bob</td>\n",
       "      <td>09454470547</td>\n",
       "      <td>31.0</td>\n",
       "      <td></td>\n",
       "      <td>NaN</td>\n",
       "      <td>Electronics</td>\n",
       "      <td>10000</td>\n",
       "      <td>debit_card</td>\n",
       "      <td>Data cleaning is necessary...</td>\n",
       "    </tr>\n",
       "    <tr>\n",
       "      <th>2</th>\n",
       "      <td>761860</td>\n",
       "      <td>Alice</td>\n",
       "      <td>09984217989</td>\n",
       "      <td>23.0</td>\n",
       "      <td>Miami</td>\n",
       "      <td>12,20,2023</td>\n",
       "      <td>Boks</td>\n",
       "      <td>10000</td>\n",
       "      <td>CASH</td>\n",
       "      <td>Messy,   text with   spaces!</td>\n",
       "    </tr>\n",
       "    <tr>\n",
       "      <th>3</th>\n",
       "      <td>414220</td>\n",
       "      <td>Henry</td>\n",
       "      <td>09983003209</td>\n",
       "      <td>54.0</td>\n",
       "      <td>San Francisco</td>\n",
       "      <td>03,22,2023</td>\n",
       "      <td>Groceries</td>\n",
       "      <td>10000</td>\n",
       "      <td>PayPal</td>\n",
       "      <td>This is a   sample review.</td>\n",
       "    </tr>\n",
       "    <tr>\n",
       "      <th>4</th>\n",
       "      <td>130403</td>\n",
       "      <td>David</td>\n",
       "      <td>09178943535</td>\n",
       "      <td>55.5</td>\n",
       "      <td>Seattle</td>\n",
       "      <td>02,21,2023</td>\n",
       "      <td>Boks</td>\n",
       "      <td>266.0598752443908</td>\n",
       "      <td>PayPal</td>\n",
       "      <td>Messy,   text with   spaces!</td>\n",
       "    </tr>\n",
       "    <tr>\n",
       "      <th>...</th>\n",
       "      <td>...</td>\n",
       "      <td>...</td>\n",
       "      <td>...</td>\n",
       "      <td>...</td>\n",
       "      <td>...</td>\n",
       "      <td>...</td>\n",
       "      <td>...</td>\n",
       "      <td>...</td>\n",
       "      <td>...</td>\n",
       "      <td>...</td>\n",
       "    </tr>\n",
       "    <tr>\n",
       "      <th>2095</th>\n",
       "      <td>551267</td>\n",
       "      <td>Eva</td>\n",
       "      <td>09207934135</td>\n",
       "      <td>55.5</td>\n",
       "      <td>Seattle</td>\n",
       "      <td>04,03,2023</td>\n",
       "      <td>Electronics</td>\n",
       "      <td>three hundred</td>\n",
       "      <td>Cash</td>\n",
       "      <td>!!!Extra punctuation???</td>\n",
       "    </tr>\n",
       "    <tr>\n",
       "      <th>2096</th>\n",
       "      <td>765004</td>\n",
       "      <td>Grace</td>\n",
       "      <td>09203608516</td>\n",
       "      <td>55.5</td>\n",
       "      <td>Los Angeles</td>\n",
       "      <td>03,02,2023</td>\n",
       "      <td>Sprts</td>\n",
       "      <td>1K</td>\n",
       "      <td>NaN</td>\n",
       "      <td>This is a   sample review.</td>\n",
       "    </tr>\n",
       "    <tr>\n",
       "      <th>2097</th>\n",
       "      <td>150839</td>\n",
       "      <td>Eva</td>\n",
       "      <td>09209824644</td>\n",
       "      <td>55.5</td>\n",
       "      <td>Chicago</td>\n",
       "      <td>03,12,2023</td>\n",
       "      <td>Toys</td>\n",
       "      <td>21.572884735974835</td>\n",
       "      <td>Debit Card</td>\n",
       "      <td>lots   of   spaces   here</td>\n",
       "    </tr>\n",
       "    <tr>\n",
       "      <th>2098</th>\n",
       "      <td>689611</td>\n",
       "      <td>Bob</td>\n",
       "      <td>09200210027</td>\n",
       "      <td>55.5</td>\n",
       "      <td>New York</td>\n",
       "      <td>05,23,2023</td>\n",
       "      <td>Home &amp; Kitchen</td>\n",
       "      <td>-50</td>\n",
       "      <td>CASH</td>\n",
       "      <td>Data cleaning is necessary...</td>\n",
       "    </tr>\n",
       "    <tr>\n",
       "      <th>2099</th>\n",
       "      <td>979856</td>\n",
       "      <td>Frank</td>\n",
       "      <td>09987589228</td>\n",
       "      <td>55.5</td>\n",
       "      <td>Miami</td>\n",
       "      <td>10,09,2023</td>\n",
       "      <td>Books</td>\n",
       "      <td>NaN</td>\n",
       "      <td>Cash</td>\n",
       "      <td>Data cleaning is necessary...</td>\n",
       "    </tr>\n",
       "  </tbody>\n",
       "</table>\n",
       "<p>2100 rows × 10 columns</p>\n",
       "</div>"
      ],
      "text/plain": [
       "      transaction_id customer_name phone_number   age           city  \\\n",
       "0             718969         Grace  09178480427  80.0       New York   \n",
       "1             480570           Bob  09454470547  31.0                  \n",
       "2             761860         Alice  09984217989  23.0          Miami   \n",
       "3             414220         Henry  09983003209  54.0  San Francisco   \n",
       "4             130403         David  09178943535  55.5        Seattle   \n",
       "...              ...           ...          ...   ...            ...   \n",
       "2095          551267           Eva  09207934135  55.5        Seattle   \n",
       "2096          765004         Grace  09203608516  55.5    Los Angeles   \n",
       "2097          150839           Eva  09209824644  55.5        Chicago   \n",
       "2098          689611           Bob  09200210027  55.5       New York   \n",
       "2099          979856         Frank  09987589228  55.5          Miami   \n",
       "\n",
       "     transaction_date product_category              amount payment_method  \\\n",
       "0          05,29,2023   Home & Kitchen                 NaN         PayPal   \n",
       "1                 NaN      Electronics               10000     debit_card   \n",
       "2          12,20,2023             Boks               10000           CASH   \n",
       "3          03,22,2023        Groceries               10000         PayPal   \n",
       "4          02,21,2023             Boks   266.0598752443908         PayPal   \n",
       "...               ...              ...                 ...            ...   \n",
       "2095       04,03,2023      Electronics       three hundred           Cash   \n",
       "2096       03,02,2023            Sprts                  1K            NaN   \n",
       "2097       03,12,2023             Toys  21.572884735974835     Debit Card   \n",
       "2098       05,23,2023   Home & Kitchen                 -50           CASH   \n",
       "2099       10,09,2023            Books                 NaN           Cash   \n",
       "\n",
       "                              review  \n",
       "0            !!!Extra punctuation???  \n",
       "1      Data cleaning is necessary...  \n",
       "2       Messy,   text with   spaces!  \n",
       "3       This is a   sample review.    \n",
       "4       Messy,   text with   spaces!  \n",
       "...                              ...  \n",
       "2095         !!!Extra punctuation???  \n",
       "2096    This is a   sample review.    \n",
       "2097     lots   of   spaces   here    \n",
       "2098   Data cleaning is necessary...  \n",
       "2099   Data cleaning is necessary...  \n",
       "\n",
       "[2100 rows x 10 columns]"
      ]
     },
     "execution_count": 848,
     "metadata": {},
     "output_type": "execute_result"
    }
   ],
   "source": [
    "df"
   ]
  },
  {
   "cell_type": "code",
   "execution_count": 849,
   "id": "a770bf50-9748-4dbf-9c9c-167bf4000c7f",
   "metadata": {},
   "outputs": [],
   "source": [
    "#remove special characters\n",
    "df['transaction_date'] = df['transaction_date'].str.replace(r'[/,-.]','', regex = True)\n",
    "#omit spacings\n",
    "df['transaction_date'] = df['transaction_date'].str.replace(' ','', regex = True)\n",
    "# remove nan values\n",
    "df['transaction_date'] = df['transaction_date'].fillna('')"
   ]
  },
  {
   "cell_type": "markdown",
   "id": "42346372-10ce-4d91-932f-6270934f6f82",
   "metadata": {},
   "source": [
    "<h5> Manual Way of Changing the Month </h5>"
   ]
  },
  {
   "cell_type": "raw",
   "id": "17244103-5653-4e67-ac49-ac29b2b746e0",
   "metadata": {},
   "source": [
    "#To replace the months in words with its corresponding numbers we can do mapping\n",
    "\n",
    "month_map = {\n",
    "    'January' : '01' , 'February': '02', 'March': '03',\n",
    "    'April': '04', 'May': '05', 'June': '06',\n",
    "    'July': '07', 'August': '08', 'September': '09',\n",
    "    'October': '10', 'November': '11', 'December': '12'\n",
    "}\n",
    "\n",
    "#replace full month names\n",
    "df['transaction_date'] = df['transaction_date'].astype(str)\n",
    "\n",
    "for month, num in month_map.items():\n",
    "    df['transaction_date'] = df['transaction_date'].str.replace(month, num, case = False, regex=False)"
   ]
  },
  {
   "cell_type": "code",
   "execution_count": 850,
   "id": "65ebb1d7-e67a-4d66-9781-913fb5b9e084",
   "metadata": {},
   "outputs": [],
   "source": [
    "#Separate using '/'\n",
    "df['transaction_date'] = df['transaction_date'].apply(lambda x: f\"{x[0:2]}/{x[2:4]}/{x[4:]}\" if pd.notnull(x) and len(x) == 8 else x)"
   ]
  },
  {
   "cell_type": "code",
   "execution_count": 851,
   "id": "240efd61-0365-4d4a-90e0-5b0d62cebb1a",
   "metadata": {},
   "outputs": [],
   "source": [
    "# Convert to datetime, invalid dates become NaT\n",
    "df['transaction_date'] = pd.to_datetime(df['transaction_date'], format='%m/%d/%Y', errors='coerce')\n",
    "# Replace NaT with blank string ('') or None\n",
    "#df['transaction_date'] = df['transaction_date'].apply(lambda x: '' if pd.isna(x) else x)"
   ]
  },
  {
   "cell_type": "code",
   "execution_count": 852,
   "id": "4faa1344-da66-4c78-af00-133aaa43c2f1",
   "metadata": {},
   "outputs": [],
   "source": [
    "#to ensure that the values will only return dates\n",
    "df['transaction_date'] = df['transaction_date'].dt.date"
   ]
  },
  {
   "cell_type": "markdown",
   "id": "d6584b87-2b55-4608-8d0b-ef542fd83fc1",
   "metadata": {},
   "source": [
    "<h3> For Product Category </h3>"
   ]
  },
  {
   "cell_type": "code",
   "execution_count": 853,
   "id": "96614b71-3d9c-47aa-876b-34ca6673e8f4",
   "metadata": {},
   "outputs": [
    {
     "data": {
      "text/plain": [
       "array(['Home & Kitchen', 'Electronics', 'Boks', 'Groceries', 'Toys',\n",
       "       'Sprts', 'Clothng', 'Clothing', 'Hme & Kitchen', 'Sports', 'Toyss',\n",
       "       'Electrnics', 'Grocereis', 'Books'], dtype=object)"
      ]
     },
     "execution_count": 853,
     "metadata": {},
     "output_type": "execute_result"
    }
   ],
   "source": [
    "df['product_category'].unique()"
   ]
  },
  {
   "cell_type": "code",
   "execution_count": 854,
   "id": "7fad0609-a1de-4584-b5fa-f854a42aaa37",
   "metadata": {},
   "outputs": [],
   "source": [
    "category_mapping = {\n",
    "    'Hme & Kitchen' : 'Home & Kitchen',\n",
    "    'Electrnics' : 'Electronics',\n",
    "    'Boks' : 'Books',\n",
    "    'Grocereis' : 'Groceries',\n",
    "    'Toyss' : 'Toys',\n",
    "    'Sprts' : 'Sports',\n",
    "    'Clothng' : 'Clothing'\n",
    "}\n",
    "\n",
    "#change the dtype to string first\n",
    "df['product_category'] = df['product_category'].astype(str)\n",
    "\n",
    "#change the wrong and map the right spelling\n",
    "for wrong, right in category_mapping.items():\n",
    "    df['product_category'] = df['product_category'].str.replace(wrong,right, case = False, regex = False )"
   ]
  },
  {
   "cell_type": "code",
   "execution_count": 855,
   "id": "a2043e65-05a9-458e-8abe-31fc594477a7",
   "metadata": {},
   "outputs": [
    {
     "data": {
      "text/plain": [
       "array(['Home & Kitchen', 'Electronics', 'Books', 'Groceries', 'Toys',\n",
       "       'Sports', 'Clothing'], dtype=object)"
      ]
     },
     "execution_count": 855,
     "metadata": {},
     "output_type": "execute_result"
    }
   ],
   "source": [
    "df['product_category'].unique()"
   ]
  },
  {
   "cell_type": "code",
   "execution_count": 856,
   "id": "f2ab74d6-8ecb-4fcf-8fca-efc0571efae8",
   "metadata": {},
   "outputs": [
    {
     "data": {
      "text/plain": [
       "0"
      ]
     },
     "execution_count": 856,
     "metadata": {},
     "output_type": "execute_result"
    }
   ],
   "source": [
    "df['product_category'].isnull().sum()"
   ]
  },
  {
   "cell_type": "markdown",
   "id": "270af83e-bb22-4b60-a1fe-f754f755013e",
   "metadata": {},
   "source": [
    "<h3> For Amount </h3>"
   ]
  },
  {
   "cell_type": "code",
   "execution_count": 857,
   "id": "cd1f30b8-953e-4c6b-904a-f496460db257",
   "metadata": {},
   "outputs": [
    {
     "data": {
      "text/plain": [
       "577"
      ]
     },
     "execution_count": 857,
     "metadata": {},
     "output_type": "execute_result"
    }
   ],
   "source": [
    "#check null values\n",
    "df['amount'].isnull().sum()"
   ]
  },
  {
   "cell_type": "markdown",
   "id": "bc6f146c-88ce-4a3b-9aff-d937776342c0",
   "metadata": {},
   "source": [
    "<h4> Converting Textual Numbers to Numberic Values </h4>"
   ]
  },
  {
   "cell_type": "code",
   "execution_count": 858,
   "id": "d37cc657-f7bd-4884-a6f9-5a7e52c99a2c",
   "metadata": {},
   "outputs": [
    {
     "name": "stdout",
     "output_type": "stream",
     "text": [
      "Requirement already satisfied: word2number in d:\\anaconda3\\lib\\site-packages (1.1)\n",
      "Note: you may need to restart the kernel to use updated packages.\n"
     ]
    }
   ],
   "source": [
    "%pip install word2number"
   ]
  },
  {
   "cell_type": "code",
   "execution_count": 859,
   "id": "ee027a07-bb2f-4645-835e-c93a18ec1182",
   "metadata": {},
   "outputs": [
    {
     "data": {
      "text/plain": [
       "array([nan, '10000', '266.0598752443908', '-50', '1K',\n",
       "       '413.64956332318377', '26.407233375462262', '415.67398439051397',\n",
       "       'three hundred', '431.6820999429471', '215.59559518783894',\n",
       "       '210.82348105461207', '38.11793389355401', '36.053397156622495',\n",
       "       '407.9024743024734', '186.65078529674045', '313.73651522287093',\n",
       "       '437.2799612858418', '499.6303959770331', '27.197821091862682',\n",
       "       '333.9669572883428', '304.5588261095787', '94.27161602205729',\n",
       "       '197.29875554377193', '143.66715238600122', '253.32360366760267',\n",
       "       '271.8219185994783', '469.0748219898675', '52.34916614989301',\n",
       "       '23.672190998165085', '150.52078481645412', '140.50575685824984',\n",
       "       '31.724671779137285', '39.98338686266458', '295.8583234843202',\n",
       "       '242.39340102634776', '297.44591258564174', '308.33220252804585',\n",
       "       '139.82870128938305', '333.845070967309', '395.61191012022937',\n",
       "       '255.7807104906842', '320.7737484549852', '489.1848697929453',\n",
       "       '448.31013808289947', '86.75197619683381', '330.30613757098354',\n",
       "       '38.989273253581274', '481.14386518463823', '183.81228611564072',\n",
       "       '347.58578020877144', '290.64632074790717', '177.90264693937914',\n",
       "       '112.83009878220135', '305.83786347608407', '135.70869744961348',\n",
       "       '85.5477911974135', '208.3900198364202', '276.82860670929716',\n",
       "       '379.97858411727447', '407.58596705074376', '59.52057608825245',\n",
       "       '355.6082076218355', '107.51120151087785', '278.4097260267213',\n",
       "       '325.9349291160661', '277.05953171173127', '391.71980058668044',\n",
       "       '377.14987588089724', '388.95921818266834', '70.54032944251927',\n",
       "       '453.1626509409721', '75.3195245637144', '169.34073460210314',\n",
       "       '499.67030241325506', '160.96621036784234', '360.75550433626614',\n",
       "       '289.05557710159655', '472.75421698089787', '121.82308977384653',\n",
       "       '276.9033441972256', '157.76966823490605', '165.35099436619655',\n",
       "       '268.005057825251', '421.60496142883954', '222.97556130551735',\n",
       "       '257.17133891774233', '281.954703607686', '215.8305740888669',\n",
       "       '12.189281638209808', '421.26501652321923', '307.9852450470054',\n",
       "       '310.3091386174685', '177.01256279080764', '258.51989799118826',\n",
       "       '397.9858141356812', '436.06339338555625', '117.42019482365919',\n",
       "       '26.034979479974336', '302.5752056106864', '326.730538772555',\n",
       "       '163.49092490296928', '129.1325490757232', '25.5893517288644',\n",
       "       '262.2261709938077', '454.4705450479018', '370.46872208892717',\n",
       "       '210.8149645948549', '475.57098784729135', '366.01227235494065',\n",
       "       '163.6842746109882', '433.2999882573049', '424.9131303699899',\n",
       "       '392.02140562589545', '407.34869246571077', '96.88688116352719',\n",
       "       '311.4887966591766', '389.16981282317545', '230.16153456040985',\n",
       "       '447.8835132193511', '191.07506088095002', '27.580255669406597',\n",
       "       '109.62680337775697', '160.80239269322666', '144.737314936052',\n",
       "       '48.221789694826725', '387.9300870684132', '189.05323200778577',\n",
       "       '480.0702922953465', '295.9048100385165', '276.1465904310552',\n",
       "       '289.4807192615652', '68.23005142158831', '113.40568170488461',\n",
       "       '325.17168225364', '473.1246737513397', '376.3161197896012',\n",
       "       '262.3445810304504', '265.7187129281265', '362.9015709835732',\n",
       "       '34.968563694921194', '241.70481486963394', '193.5170931683277',\n",
       "       '280.5511030403593', '382.3373721623616', '367.2910172608765',\n",
       "       '41.509430052226705', '230.35568464979767', '91.36378979706141',\n",
       "       '114.50124740383075', '140.16087854129418', '17.11146067364416',\n",
       "       '336.5777201171625', '243.8336491401887', '50.0064279166401',\n",
       "       '294.9282299312463', '374.5138311977813', '329.8614353745704',\n",
       "       '217.6316383808285', '274.1363289521805', '309.19771892259865',\n",
       "       '377.02263111982995', '164.96725023394782', '331.25302779673217',\n",
       "       '205.99599600529342', '126.36203638374991', '449.57945534408003',\n",
       "       '473.9131207029619', '176.0537788877408', '400.5451917356097',\n",
       "       '301.77949108318455', '59.8163888980273', '401.09229147096096',\n",
       "       '183.72539383275577', '406.84418720295554', '188.97562399544844',\n",
       "       '288.7824989526974', '205.11766327113284', '414.70519582176695',\n",
       "       '44.28380725833384', '368.6854762674723', '339.7346351762054',\n",
       "       '259.33933199292943', '448.7049858356191', '490.3194349704624',\n",
       "       '297.14702383184493', '192.4647703309607', '216.22626363325827',\n",
       "       '478.7791730503831', '21.572884735974835', '417.84108351267804',\n",
       "       '128.857134024893', '384.2257118367305', '22.61888869878131',\n",
       "       '388.2878330486889', '492.0017173168831', '348.60422416078575',\n",
       "       '288.83681194533875', '203.2350156036032', '471.4108832347438',\n",
       "       '409.87210238991025', '242.62145192092763', '143.21140411313465',\n",
       "       '277.2071785907091', '140.7268503780663', '266.7371441197247',\n",
       "       '24.891575382222115', '484.11446740196675', '476.2421284598609',\n",
       "       '17.621219901213706', '23.05222388945391', '248.44436747780205',\n",
       "       '439.8765918933258', '321.13046572341693', '76.70515511697332',\n",
       "       '51.82482377657421', '214.51693040910587', '285.2825043230506',\n",
       "       '28.54823043223721', '74.84112092410795', '80.64563727221342',\n",
       "       '16.011688767004333', '325.9013915720337', '386.16806328000655',\n",
       "       '135.80035682440786', '104.72481965062752', '293.9795788678905',\n",
       "       '44.188975099062745', '400.72382762918295', '459.3525864758139',\n",
       "       '107.24224037689378', '118.8255527550078', '29.67807943087834',\n",
       "       '276.74428504335157', '394.5841947732192', '244.075855413889',\n",
       "       '442.63640428834947', '30.9611241988607', '348.91949023046465',\n",
       "       '331.86197890260854', '52.37543790619924', '343.18207694267045',\n",
       "       '402.02779892836065', '16.9316041846905', '88.7134520955289',\n",
       "       '64.82127783624492', '288.4462001791621', '90.14836023972828',\n",
       "       '75.1326587516656', '241.7834289528145', '363.7602126586083',\n",
       "       '370.0176413794171', '138.00205081166405', '170.98049441441879',\n",
       "       '436.2778023912782', '85.31171431595794', '122.82315276601463',\n",
       "       '456.0435750551538', '384.3830027403304', '238.85903278040874',\n",
       "       '339.15980999900955', '188.77163107667133', '251.471201647693',\n",
       "       '404.25244385410986', '97.19930754762422', '438.36626825518493',\n",
       "       '29.10086107833118', '47.26853472512585', '399.1028507917941',\n",
       "       '345.921975107486', '357.1888554963426', '430.72744884665696',\n",
       "       '94.89874454392456', '250.33044817433583', '36.05352248831932',\n",
       "       '126.59917065863502', '398.2141113923488', '75.75032283727211',\n",
       "       '229.30131607861847', '77.61730034945772', '61.81131771616186',\n",
       "       '104.10164951464212', '211.4066563744453', '161.23543842736038',\n",
       "       '88.36220733414486', '45.62745882162288', '161.10154081033662',\n",
       "       '101.48180239923087', '185.66591489616496', '405.0356769290275',\n",
       "       '348.7835501339438', '476.960689088647', '170.31212373863684',\n",
       "       '378.30756832779895', '252.93224224191198', '138.30880581187049',\n",
       "       '142.8856072164888', '27.325773052450913', '377.2193666388426',\n",
       "       '346.72050489905763', '91.18186703454471', '105.23053366486175',\n",
       "       '139.50502354900985', '358.3942485473836', '16.31075630543848',\n",
       "       '398.8670929128627', '313.7157616107708', '142.94680029927812',\n",
       "       '43.05537729413611', '47.56677692449706', '42.34771570372304',\n",
       "       '121.76182543733375', '262.763657355585', '319.13506533881315',\n",
       "       '36.484233593356265', '488.2853639887718', '57.49106792578483',\n",
       "       '285.2836911258564', '188.47649850221225', '10.94060308082898',\n",
       "       '137.44399415742132', '223.29693440104847'], dtype=object)"
      ]
     },
     "execution_count": 859,
     "metadata": {},
     "output_type": "execute_result"
    }
   ],
   "source": [
    "#check which textual Numbers to convert \n",
    "df['amount'].unique()"
   ]
  },
  {
   "cell_type": "code",
   "execution_count": 860,
   "id": "ded012ba-ac6f-4733-91a1-1f7f4984be4a",
   "metadata": {},
   "outputs": [],
   "source": [
    "#execute word2number\n",
    "from word2number import w2n\n",
    "\n",
    "#for 300\n",
    "text = 'three hundred'\n",
    "numeric_value = w2n.word_to_num(text)\n",
    "\n",
    "#apply\n",
    "df['amount'] = df['amount'].apply(lambda x: numeric_value if x=='three hundred' else x)"
   ]
  },
  {
   "cell_type": "code",
   "execution_count": 861,
   "id": "282ac678-6ad0-498d-96af-7d796a486f16",
   "metadata": {},
   "outputs": [],
   "source": [
    "#resolve the 1K\n",
    "#we can use lambda function\n",
    "\n",
    "df['amount'] = df['amount'].apply(lambda x: 1000 if x=='1K' else x)"
   ]
  },
  {
   "cell_type": "code",
   "execution_count": 862,
   "id": "97760dfd-b146-4f6e-a536-fba501b1009f",
   "metadata": {},
   "outputs": [],
   "source": [
    "#omitting negative values\n",
    "df['amount'] = df['amount'].str.replace('-50', '')"
   ]
  },
  {
   "cell_type": "code",
   "execution_count": 863,
   "id": "9fbb8fda-eae6-4cd8-85d3-b552257ee7db",
   "metadata": {},
   "outputs": [],
   "source": [
    "#change the datatype into numeric\n",
    "df['amount'] = pd.to_numeric(df['amount'], errors = 'coerce')\n",
    "\n",
    "#we can written NaN values since NaN is better than '' when working with numbers or databases."
   ]
  },
  {
   "cell_type": "code",
   "execution_count": 864,
   "id": "cad91550-c1b4-4bcf-876e-c92588c9facb",
   "metadata": {},
   "outputs": [],
   "source": [
    "#Limit the decimal places to 2\n",
    "df['amount'] = df['amount'].round(2)"
   ]
  },
  {
   "cell_type": "code",
   "execution_count": 865,
   "id": "ae31050f-4e32-4f3f-a23a-6571f72a60b1",
   "metadata": {},
   "outputs": [
    {
     "data": {
      "text/plain": [
       "<Axes: xlabel='amount', ylabel='Count'>"
      ]
     },
     "execution_count": 865,
     "metadata": {},
     "output_type": "execute_result"
    },
    {
     "data": {
      "image/png": "[encoded data removed]",
      "text/plain": [
       "<Figure size 640x480 with 1 Axes>"
      ]
     },
     "metadata": {},
     "output_type": "display_data"
    }
   ],
   "source": [
    "sns.histplot(df['amount'], bins=30, kde=True)"
   ]
  },
  {
   "cell_type": "markdown",
   "id": "d3dab21e-538b-47b8-b51e-b3f8cf58e070",
   "metadata": {},
   "source": [
    "Now, we can see that 10000 appears frequently we must understand if this value is an outlier. We can get its ratio between the valid values.<br>\n",
    "Note: Use only valid (non-NaN) values for outlier detection and proportion analysis beacuse you can only assess distribution among actual, valid values."
   ]
  },
  {
   "cell_type": "code",
   "execution_count": 866,
   "id": "63bb40c9-969c-42fd-aeb0-a9294e2efad3",
   "metadata": {},
   "outputs": [
    {
     "name": "stdout",
     "output_type": "stream",
     "text": [
      "48.6404833836858\n"
     ]
    }
   ],
   "source": [
    "count_1000 = (df['amount'] == 10000).sum()\n",
    "count_valid = count_valid = df['amount'].dropna().shape[0]\n",
    "\n",
    "ratio = (count_1000/count_valid)*100\n",
    "print(ratio)"
   ]
  },
  {
   "cell_type": "markdown",
   "id": "6bbe3bb0-8a8e-4fd1-8423-0870b311a418",
   "metadata": {},
   "source": [
    "Since ratio = 48.64 %, this is a strong indication that 10000 is not an outlier, but rather a mode (a value that repeats frequently)."
   ]
  },
  {
   "cell_type": "markdown",
   "id": "5e379692-9f77-447b-8b49-c0486a309fd1",
   "metadata": {},
   "source": [
    "<h3> Payment Method </h3>"
   ]
  },
  {
   "cell_type": "markdown",
   "id": "fe7d8482-46d3-43da-9a1a-019a1d72ebe4",
   "metadata": {},
   "source": [
    "<h4> Hadling Text Cases </h4>"
   ]
  },
  {
   "cell_type": "code",
   "execution_count": 867,
   "id": "0404b9d0-0094-4a1b-8af1-af6b78d2cb4d",
   "metadata": {},
   "outputs": [],
   "source": [
    "#convert the values into lower case\n",
    "df['payment_method'] = df['payment_method'].str.lower()"
   ]
  },
  {
   "cell_type": "code",
   "execution_count": 868,
   "id": "94c5f654-fd66-4da6-a3ad-91601f31508a",
   "metadata": {},
   "outputs": [],
   "source": [
    "#remove underscores and replace spaces instead\n",
    "df['payment_method'] = df['payment_method'].str.replace('_',' ')"
   ]
  },
  {
   "cell_type": "code",
   "execution_count": 869,
   "id": "7af02d64-acc9-46ad-866e-f0e7e6867092",
   "metadata": {},
   "outputs": [
    {
     "data": {
      "text/plain": [
       "199"
      ]
     },
     "execution_count": 869,
     "metadata": {},
     "output_type": "execute_result"
    }
   ],
   "source": [
    "df['payment_method'].isnull().sum()"
   ]
  },
  {
   "cell_type": "code",
   "execution_count": 870,
   "id": "53fd99c9-7dbb-4f64-9b33-c93f99707788",
   "metadata": {},
   "outputs": [
    {
     "data": {
      "text/plain": [
       "array(['paypal', 'debit card', 'cash', nan, 'credit card', 'credit card '],\n",
       "      dtype=object)"
      ]
     },
     "execution_count": 870,
     "metadata": {},
     "output_type": "execute_result"
    }
   ],
   "source": [
    "df['payment_method'].unique()"
   ]
  },
  {
   "cell_type": "markdown",
   "id": "6a2a6386-d98a-4c97-9224-5314d1d8367e",
   "metadata": {},
   "source": [
    "<h3> For Reviewv</h3> "
   ]
  },
  {
   "cell_type": "code",
   "execution_count": 871,
   "id": "0d72c12a-03c0-4b06-83fd-2d5913554c1b",
   "metadata": {},
   "outputs": [],
   "source": [
    "#we can just drop this column since it is not important\n",
    "df = df.drop(columns = ['review'])"
   ]
  },
  {
   "cell_type": "code",
   "execution_count": 872,
   "id": "22e8c41f-60df-447d-8382-cd22386e2bfa",
   "metadata": {},
   "outputs": [],
   "source": [
    "#To clean the data set entirely I decided to omit all the age values that was predicted by KNN\n",
    "df['age'] = df['age'].apply(lambda x: '' if x == 55.5 else x)"
   ]
  },
  {
   "cell_type": "code",
   "execution_count": 873,
   "id": "262698a2-4eb2-4d19-9a9d-722e861d70eb",
   "metadata": {},
   "outputs": [
    {
     "data": {
      "text/html": [
       "<div>\n",
       "<style scoped>\n",
       "    .dataframe tbody tr th:only-of-type {\n",
       "        vertical-align: middle;\n",
       "    }\n",
       "\n",
       "    .dataframe tbody tr th {\n",
       "        vertical-align: top;\n",
       "    }\n",
       "\n",
       "    .dataframe thead th {\n",
       "        text-align: right;\n",
       "    }\n",
       "</style>\n",
       "<table border=\"1\" class=\"dataframe\">\n",
       "  <thead>\n",
       "    <tr style=\"text-align: right;\">\n",
       "      <th></th>\n",
       "      <th>transaction_id</th>\n",
       "      <th>customer_name</th>\n",
       "      <th>phone_number</th>\n",
       "      <th>age</th>\n",
       "      <th>city</th>\n",
       "      <th>transaction_date</th>\n",
       "      <th>product_category</th>\n",
       "      <th>amount</th>\n",
       "      <th>payment_method</th>\n",
       "    </tr>\n",
       "  </thead>\n",
       "  <tbody>\n",
       "    <tr>\n",
       "      <th>0</th>\n",
       "      <td>718969</td>\n",
       "      <td>Grace</td>\n",
       "      <td>09178480427</td>\n",
       "      <td>80.0</td>\n",
       "      <td>New York</td>\n",
       "      <td>2023-05-29</td>\n",
       "      <td>Home &amp; Kitchen</td>\n",
       "      <td>NaN</td>\n",
       "      <td>paypal</td>\n",
       "    </tr>\n",
       "    <tr>\n",
       "      <th>1</th>\n",
       "      <td>480570</td>\n",
       "      <td>Bob</td>\n",
       "      <td>09454470547</td>\n",
       "      <td>31.0</td>\n",
       "      <td></td>\n",
       "      <td>NaT</td>\n",
       "      <td>Electronics</td>\n",
       "      <td>10000.00</td>\n",
       "      <td>debit card</td>\n",
       "    </tr>\n",
       "    <tr>\n",
       "      <th>2</th>\n",
       "      <td>761860</td>\n",
       "      <td>Alice</td>\n",
       "      <td>09984217989</td>\n",
       "      <td>23.0</td>\n",
       "      <td>Miami</td>\n",
       "      <td>2023-12-20</td>\n",
       "      <td>Books</td>\n",
       "      <td>10000.00</td>\n",
       "      <td>cash</td>\n",
       "    </tr>\n",
       "    <tr>\n",
       "      <th>3</th>\n",
       "      <td>414220</td>\n",
       "      <td>Henry</td>\n",
       "      <td>09983003209</td>\n",
       "      <td>54.0</td>\n",
       "      <td>San Francisco</td>\n",
       "      <td>2023-03-22</td>\n",
       "      <td>Groceries</td>\n",
       "      <td>10000.00</td>\n",
       "      <td>paypal</td>\n",
       "    </tr>\n",
       "    <tr>\n",
       "      <th>4</th>\n",
       "      <td>130403</td>\n",
       "      <td>David</td>\n",
       "      <td>09178943535</td>\n",
       "      <td></td>\n",
       "      <td>Seattle</td>\n",
       "      <td>2023-02-21</td>\n",
       "      <td>Books</td>\n",
       "      <td>266.06</td>\n",
       "      <td>paypal</td>\n",
       "    </tr>\n",
       "    <tr>\n",
       "      <th>...</th>\n",
       "      <td>...</td>\n",
       "      <td>...</td>\n",
       "      <td>...</td>\n",
       "      <td>...</td>\n",
       "      <td>...</td>\n",
       "      <td>...</td>\n",
       "      <td>...</td>\n",
       "      <td>...</td>\n",
       "      <td>...</td>\n",
       "    </tr>\n",
       "    <tr>\n",
       "      <th>2095</th>\n",
       "      <td>551267</td>\n",
       "      <td>Eva</td>\n",
       "      <td>09207934135</td>\n",
       "      <td></td>\n",
       "      <td>Seattle</td>\n",
       "      <td>2023-04-03</td>\n",
       "      <td>Electronics</td>\n",
       "      <td>NaN</td>\n",
       "      <td>cash</td>\n",
       "    </tr>\n",
       "    <tr>\n",
       "      <th>2096</th>\n",
       "      <td>765004</td>\n",
       "      <td>Grace</td>\n",
       "      <td>09203608516</td>\n",
       "      <td></td>\n",
       "      <td>Los Angeles</td>\n",
       "      <td>2023-03-02</td>\n",
       "      <td>Sports</td>\n",
       "      <td>NaN</td>\n",
       "      <td>NaN</td>\n",
       "    </tr>\n",
       "    <tr>\n",
       "      <th>2097</th>\n",
       "      <td>150839</td>\n",
       "      <td>Eva</td>\n",
       "      <td>09209824644</td>\n",
       "      <td></td>\n",
       "      <td>Chicago</td>\n",
       "      <td>2023-03-12</td>\n",
       "      <td>Toys</td>\n",
       "      <td>21.57</td>\n",
       "      <td>debit card</td>\n",
       "    </tr>\n",
       "    <tr>\n",
       "      <th>2098</th>\n",
       "      <td>689611</td>\n",
       "      <td>Bob</td>\n",
       "      <td>09200210027</td>\n",
       "      <td></td>\n",
       "      <td>New York</td>\n",
       "      <td>2023-05-23</td>\n",
       "      <td>Home &amp; Kitchen</td>\n",
       "      <td>NaN</td>\n",
       "      <td>cash</td>\n",
       "    </tr>\n",
       "    <tr>\n",
       "      <th>2099</th>\n",
       "      <td>979856</td>\n",
       "      <td>Frank</td>\n",
       "      <td>09987589228</td>\n",
       "      <td></td>\n",
       "      <td>Miami</td>\n",
       "      <td>2023-10-09</td>\n",
       "      <td>Books</td>\n",
       "      <td>NaN</td>\n",
       "      <td>cash</td>\n",
       "    </tr>\n",
       "  </tbody>\n",
       "</table>\n",
       "<p>2100 rows × 9 columns</p>\n",
       "</div>"
      ],
      "text/plain": [
       "      transaction_id customer_name phone_number   age           city  \\\n",
       "0             718969         Grace  09178480427  80.0       New York   \n",
       "1             480570           Bob  09454470547  31.0                  \n",
       "2             761860         Alice  09984217989  23.0          Miami   \n",
       "3             414220         Henry  09983003209  54.0  San Francisco   \n",
       "4             130403         David  09178943535              Seattle   \n",
       "...              ...           ...          ...   ...            ...   \n",
       "2095          551267           Eva  09207934135              Seattle   \n",
       "2096          765004         Grace  09203608516          Los Angeles   \n",
       "2097          150839           Eva  09209824644              Chicago   \n",
       "2098          689611           Bob  09200210027             New York   \n",
       "2099          979856         Frank  09987589228                Miami   \n",
       "\n",
       "     transaction_date product_category    amount payment_method  \n",
       "0          2023-05-29   Home & Kitchen       NaN         paypal  \n",
       "1                 NaT      Electronics  10000.00     debit card  \n",
       "2          2023-12-20            Books  10000.00           cash  \n",
       "3          2023-03-22        Groceries  10000.00         paypal  \n",
       "4          2023-02-21            Books    266.06         paypal  \n",
       "...               ...              ...       ...            ...  \n",
       "2095       2023-04-03      Electronics       NaN           cash  \n",
       "2096       2023-03-02           Sports       NaN            NaN  \n",
       "2097       2023-03-12             Toys     21.57     debit card  \n",
       "2098       2023-05-23   Home & Kitchen       NaN           cash  \n",
       "2099       2023-10-09            Books       NaN           cash  \n",
       "\n",
       "[2100 rows x 9 columns]"
      ]
     },
     "execution_count": 873,
     "metadata": {},
     "output_type": "execute_result"
    }
   ],
   "source": [
    "df"
   ]
  },
  {
   "cell_type": "markdown",
   "id": "38929246-abf3-479f-97e6-8eee47df8cdb",
   "metadata": {},
   "source": [
    "<h2> Saving File to CSV or Excel </h2>"
   ]
  },
  {
   "cell_type": "code",
   "execution_count": 874,
   "id": "f4550a79-9143-4d0e-9ecd-bd818b5c907a",
   "metadata": {},
   "outputs": [],
   "source": [
    "df.to_csv('customer_transaction_cleaned.csv', index = False)"
   ]
  },
  {
   "cell_type": "code",
   "execution_count": 875,
   "id": "8bf60bb5-e271-43bf-89f5-ec5b74b1469d",
   "metadata": {},
   "outputs": [],
   "source": [
    "df.to_excel('customer_transaction_cleaned.xlsx', index = False)"
   ]
  },
  {
   "cell_type": "code",
   "execution_count": null,
   "id": "32cf550a-595f-43ee-816b-b945258b3006",
   "metadata": {},
   "outputs": [],
   "source": []
  }
 ],
 "metadata": {
  "kernelspec": {
   "display_name": "Python 3 (ipykernel)",
   "language": "python",
   "name": "python3"
  },
  "language_info": {
   "codemirror_mode": {
    "name": "ipython",
    "version": 3
   },
   "file_extension": ".py",
   "mimetype": "text/x-python",
   "name": "python",
   "nbconvert_exporter": "python",
   "pygments_lexer": "ipython3",
   "version": "3.12.4"
  }
 },
 "nbformat": 4,
 "nbformat_minor": 5
}
